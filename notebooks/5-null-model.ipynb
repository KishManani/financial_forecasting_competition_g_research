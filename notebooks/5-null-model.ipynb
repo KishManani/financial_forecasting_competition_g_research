{
 "cells": [
  {
   "cell_type": "code",
   "execution_count": 1,
   "metadata": {
    "collapsed": true
   },
   "outputs": [],
   "source": [
    "%matplotlib inline\n",
    "import numpy as np\n",
    "import pandas as pd\n",
    "import matplotlib.pyplot as plt\n",
    "import seaborn as sns\n",
    "from collections import OrderedDict\n",
    "sns.set_context('poster')\n",
    "\n",
    "# Importing from my own modules\n",
    "import sys\n",
    "sys.path.append('../financial_forecasting/')\n",
    "from utils import load_data, wMSE, train_and_test_models\n",
    "from preprocessing import Imputer, LogTransformer, MeanEncoder, TreeBinner, GroupStats"
   ]
  },
  {
   "cell_type": "markdown",
   "metadata": {},
   "source": [
    "# Load preprocessed data"
   ]
  },
  {
   "cell_type": "code",
   "execution_count": 2,
   "metadata": {
    "collapsed": true
   },
   "outputs": [],
   "source": [
    "X_train = pd.read_csv('../data/preprocessed/train.csv')\n",
    "X_val = pd.read_csv('../data/preprocessed/validation.csv')\n",
    "X_test = pd.read_csv('../data/preprocessed/test.csv')\n",
    "\n",
    "weights_train = pd.read_csv('../data/preprocessed/train_weights.csv', squeeze=True)\n",
    "weights_val = pd.read_csv('../data/preprocessed/validation_weights.csv', squeeze=True)\n",
    "\n",
    "y_train = pd.read_csv('../data/preprocessed/train_target.csv', squeeze=True)\n",
    "y_val = pd.read_csv('../data/preprocessed/validation_target.csv', squeeze=True)"
   ]
  },
  {
   "cell_type": "markdown",
   "metadata": {},
   "source": [
    "# Null model"
   ]
  },
  {
   "cell_type": "code",
   "execution_count": 3,
   "metadata": {
    "collapsed": true
   },
   "outputs": [],
   "source": [
    "class NullModel():\n",
    "    def __init__(self):\n",
    "        self.stock_mean = None\n",
    "    \n",
    "    def fit(self, df):\n",
    "        stock_mean = df.groupby('Stock')['y'].mean()\n",
    "        self.stock_mean = stock_mean\n",
    "        \n",
    "    def predict(self, df):\n",
    "        preds = df['Stock'].map(self.stock_mean).rename('y')\n",
    "        preds.fillna(0)\n",
    "        return preds"
   ]
  },
  {
   "cell_type": "code",
   "execution_count": 4,
   "metadata": {},
   "outputs": [
    {
     "name": "stdout",
     "output_type": "stream",
     "text": [
      "Train error: 1.3026031058363355e-06 Test error: 1.265388501519961e-06 \n",
      "\n"
     ]
    }
   ],
   "source": [
    "scale = 1\n",
    "df = pd.concat([X_train, y_train], axis=1)\n",
    "\n",
    "# Training\n",
    "clf = NullModel()\n",
    "clf.fit(df)\n",
    "\n",
    "# Testing\n",
    "preds_train = clf.predict(X_train)\n",
    "preds_val = clf.predict(X_val)\n",
    "\n",
    "train_error = wMSE(preds=preds_train, y=y_train, weights=weights_train)\n",
    "val_error =  wMSE(preds=preds_val, y=y_val, weights=weights_val)\n",
    "\n",
    "print('Train error: {} Test error: {} \\n'.format(train_error * scale, val_error * scale))"
   ]
  }
 ],
 "metadata": {
  "kernelspec": {
   "display_name": "py36",
   "language": "python",
   "name": "py36"
  },
  "language_info": {
   "codemirror_mode": {
    "name": "ipython",
    "version": 3
   },
   "file_extension": ".py",
   "mimetype": "text/x-python",
   "name": "python",
   "nbconvert_exporter": "python",
   "pygments_lexer": "ipython3",
   "version": "3.6.4"
  }
 },
 "nbformat": 4,
 "nbformat_minor": 2
}
