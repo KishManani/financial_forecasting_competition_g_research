{
 "cells": [
  {
   "cell_type": "code",
   "execution_count": 1,
   "metadata": {},
   "outputs": [
    {
     "name": "stderr",
     "output_type": "stream",
     "text": [
      "/Users/km1308/anaconda/envs/py36/lib/python3.6/importlib/_bootstrap.py:219: RuntimeWarning: numpy.dtype size changed, may indicate binary incompatibility. Expected 96, got 88\n",
      "  return f(*args, **kwds)\n",
      "/Users/km1308/anaconda/envs/py36/lib/python3.6/importlib/_bootstrap.py:219: RuntimeWarning: numpy.dtype size changed, may indicate binary incompatibility. Expected 96, got 88\n",
      "  return f(*args, **kwds)\n",
      "/Users/km1308/anaconda/envs/py36/lib/python3.6/importlib/_bootstrap.py:219: RuntimeWarning: numpy.dtype size changed, may indicate binary incompatibility. Expected 96, got 88\n",
      "  return f(*args, **kwds)\n"
     ]
    }
   ],
   "source": [
    "%matplotlib inline\n",
    "import numpy as np\n",
    "import pandas as pd\n",
    "import matplotlib.pyplot as plt\n",
    "import seaborn as sns\n",
    "from collections import OrderedDict\n",
    "sns.set_context('poster')\n",
    "\n",
    "from sklearn.preprocessing import MinMaxScaler, StandardScaler\n",
    "from sklearn.ensemble import RandomForestRegressor, GradientBoostingRegressor\n",
    "from sklearn.linear_model import Ridge, Lasso, LinearRegression\n",
    "from sklearn.model_selection import train_test_split\n",
    "from sklearn.cross_validation import cross_val_score\n",
    "from sklearn.metrics import make_scorer\n",
    "import xgboost as xgb\n",
    "import lightgbm as lgb\n",
    "\n",
    "# Importing from my own modules\n",
    "import sys\n",
    "sys.path.append('../financial_forecasting/')\n",
    "from utils import load_data, wMSE, train_and_test_models\n",
    "from preprocessing import Imputer, LogTransformer, MeanEncoder, TreeBinner"
   ]
  },
  {
   "cell_type": "code",
   "execution_count": 2,
   "metadata": {
    "collapsed": true
   },
   "outputs": [],
   "source": [
    "make_scorer?"
   ]
  },
  {
   "cell_type": "markdown",
   "metadata": {},
   "source": [
    "# Load preprocessed data"
   ]
  },
  {
   "cell_type": "code",
   "execution_count": 2,
   "metadata": {
    "collapsed": true
   },
   "outputs": [],
   "source": [
    "X_train = pd.read_csv('../data/preprocessed/train.csv')\n",
    "X_val = pd.read_csv('../data/preprocessed/validation.csv')\n",
    "X_test = pd.read_csv('../data/preprocessed/test.csv')\n",
    "\n",
    "weights_train = pd.read_csv('../data/preprocessed/train_weights.csv', squeeze=True)\n",
    "weights_val = pd.read_csv('../data/preprocessed/validation_weights.csv', squeeze=True)\n",
    "\n",
    "y_train = pd.read_csv('../data/preprocessed/train_target.csv', squeeze=True)\n",
    "y_val = pd.read_csv('../data/preprocessed/validation_target.csv', squeeze=True)"
   ]
  },
  {
   "cell_type": "markdown",
   "metadata": {},
   "source": [
    "# Use early stopping to determine optimal number of trees"
   ]
  },
  {
   "cell_type": "code",
   "execution_count": 4,
   "metadata": {
    "collapsed": true
   },
   "outputs": [],
   "source": [
    "feats= ['Day', 'Market', 'Market_mean_encoded', 'Stock', 'Stock_mean_encoded',\n",
    "       'x0', 'x0_log10', 'x0_log10_diff', 'x1_log10', 'x1_log10_diff',\n",
    "       'x2_log10', 'x2_log10_diff', 'x3A', 'x3A_log10', 'x3A_log10_diff',\n",
    "       'x3B', 'x3B_binned', 'x3B_log10', 'x3C', 'x3C_log10', 'x3D',\n",
    "       'x3D_log10', 'x3D_log10_diff', 'x3E', 'x3E_log10', 'x3E_log10_diff',\n",
    "       'x4', 'x4_binned', 'x4_log10_diff', 'x5', 'x5_binned', 'x5_log10',\n",
    "       'x5_log10_diff', 'x6', 'x6_binned', 'x6_log10_diff']"
   ]
  },
  {
   "cell_type": "code",
   "execution_count": 3,
   "metadata": {
    "collapsed": true
   },
   "outputs": [],
   "source": [
    "# Custom validation set evaluation metric to pass to xgboost \n",
    "def eval_error(preds, dtrain): \n",
    "    labels = dtrain.get_label()\n",
    "    assert len(preds) == len(labels)\n",
    "    labels = np.array(labels.tolist())\n",
    "    preds = np.array(preds.tolist())\n",
    "    err = wMSE(preds=preds, y=labels, weights=weights_val)\n",
    "    return 'wMSE', err*1e6"
   ]
  },
  {
   "cell_type": "code",
   "execution_count": null,
   "metadata": {
    "collapsed": true
   },
   "outputs": [],
   "source": [
    "def eval_error(y, y_pred, weights): \n",
    "    err = wMSE(preds=y_pred, y=y, weights=weights)\n",
    "    return err"
   ]
  },
  {
   "cell_type": "code",
   "execution_count": 4,
   "metadata": {
    "collapsed": true
   },
   "outputs": [],
   "source": [
    "my_new_score = make_scorer(eval_error, greater_is_better=False)"
   ]
  },
  {
   "cell_type": "code",
   "execution_count": 35,
   "metadata": {
    "scrolled": false
   },
   "outputs": [
    {
     "name": "stdout",
     "output_type": "stream",
     "text": [
      "[0]\tvalidation_0-rmse:0.44993\tvalidation_0-wMSE:2.99935e+06\n",
      "Multiple eval metrics have been passed: 'validation_0-wMSE' will be used for early stopping.\n",
      "\n",
      "Will train until validation_0-wMSE hasn't improved in 30 rounds.\n",
      "[1]\tvalidation_0-rmse:0.404937\tvalidation_0-wMSE:2.42954e+06\n",
      "[2]\tvalidation_0-rmse:0.364443\tvalidation_0-wMSE:1.968e+06\n",
      "[3]\tvalidation_0-rmse:0.327999\tvalidation_0-wMSE:1.59414e+06\n",
      "[4]\tvalidation_0-rmse:0.295199\tvalidation_0-wMSE:1.2913e+06\n",
      "[5]\tvalidation_0-rmse:0.265679\tvalidation_0-wMSE:1.046e+06\n",
      "[6]\tvalidation_0-rmse:0.239111\tvalidation_0-wMSE:847307\n",
      "[7]\tvalidation_0-rmse:0.2152\tvalidation_0-wMSE:686357\n",
      "[8]\tvalidation_0-rmse:0.19368\tvalidation_0-wMSE:555985\n",
      "[9]\tvalidation_0-rmse:0.174312\tvalidation_0-wMSE:450379\n",
      "[10]\tvalidation_0-rmse:0.156881\tvalidation_0-wMSE:364835\n",
      "[11]\tvalidation_0-rmse:0.141194\tvalidation_0-wMSE:295542\n",
      "[12]\tvalidation_0-rmse:0.127075\tvalidation_0-wMSE:239412\n",
      "[13]\tvalidation_0-rmse:0.114368\tvalidation_0-wMSE:193945\n",
      "[14]\tvalidation_0-rmse:0.102931\tvalidation_0-wMSE:157105\n",
      "[15]\tvalidation_0-rmse:0.092639\tvalidation_0-wMSE:127259\n",
      "[16]\tvalidation_0-rmse:0.083375\tvalidation_0-wMSE:103080\n",
      "[17]\tvalidation_0-rmse:0.075039\tvalidation_0-wMSE:83505.8\n",
      "[18]\tvalidation_0-rmse:0.067536\tvalidation_0-wMSE:67643.7\n",
      "[19]\tvalidation_0-rmse:0.060783\tvalidation_0-wMSE:54800.3\n",
      "[20]\tvalidation_0-rmse:0.054706\tvalidation_0-wMSE:44390.2\n",
      "[21]\tvalidation_0-rmse:0.049237\tvalidation_0-wMSE:35957.4\n",
      "[22]\tvalidation_0-rmse:0.044315\tvalidation_0-wMSE:29127.5\n",
      "[23]\tvalidation_0-rmse:0.039885\tvalidation_0-wMSE:23594.3\n",
      "[24]\tvalidation_0-rmse:0.035898\tvalidation_0-wMSE:19114.4\n",
      "[25]\tvalidation_0-rmse:0.032311\tvalidation_0-wMSE:15484.5\n",
      "[26]\tvalidation_0-rmse:0.029082\tvalidation_0-wMSE:12546.3\n",
      "[27]\tvalidation_0-rmse:0.026176\tvalidation_0-wMSE:10163.7\n",
      "[28]\tvalidation_0-rmse:0.023562\tvalidation_0-wMSE:8233.36\n",
      "[29]\tvalidation_0-rmse:0.021209\tvalidation_0-wMSE:6670.88\n",
      "[30]\tvalidation_0-rmse:0.019092\tvalidation_0-wMSE:5404.18\n",
      "[31]\tvalidation_0-rmse:0.017187\tvalidation_0-wMSE:4378.29\n",
      "[32]\tvalidation_0-rmse:0.015473\tvalidation_0-wMSE:3547.2\n",
      "[33]\tvalidation_0-rmse:0.013931\tvalidation_0-wMSE:2874.31\n",
      "[34]\tvalidation_0-rmse:0.012544\tvalidation_0-wMSE:2329.37\n",
      "[35]\tvalidation_0-rmse:0.011296\tvalidation_0-wMSE:1887.45\n",
      "[36]\tvalidation_0-rmse:0.010174\tvalidation_0-wMSE:1529.66\n",
      "[37]\tvalidation_0-rmse:0.009165\tvalidation_0-wMSE:1239.73\n",
      "[38]\tvalidation_0-rmse:0.008258\tvalidation_0-wMSE:1004.83\n",
      "[39]\tvalidation_0-rmse:0.007442\tvalidation_0-wMSE:814.655\n",
      "[40]\tvalidation_0-rmse:0.00671\tvalidation_0-wMSE:660.125\n",
      "[41]\tvalidation_0-rmse:0.006051\tvalidation_0-wMSE:535.253\n",
      "[42]\tvalidation_0-rmse:0.00546\tvalidation_0-wMSE:434.051\n",
      "[43]\tvalidation_0-rmse:0.00493\tvalidation_0-wMSE:351.824\n",
      "[44]\tvalidation_0-rmse:0.004454\tvalidation_0-wMSE:285.254\n",
      "[45]\tvalidation_0-rmse:0.004028\tvalidation_0-wMSE:231.374\n",
      "[46]\tvalidation_0-rmse:0.003647\tvalidation_0-wMSE:187.87\n",
      "[47]\tvalidation_0-rmse:0.003306\tvalidation_0-wMSE:152.522\n",
      "[48]\tvalidation_0-rmse:0.003002\tvalidation_0-wMSE:123.847\n",
      "[49]\tvalidation_0-rmse:0.00273\tvalidation_0-wMSE:100.631\n",
      "[50]\tvalidation_0-rmse:0.002489\tvalidation_0-wMSE:81.8187\n",
      "[51]\tvalidation_0-rmse:0.002275\tvalidation_0-wMSE:66.6231\n",
      "[52]\tvalidation_0-rmse:0.002085\tvalidation_0-wMSE:54.2188\n",
      "[53]\tvalidation_0-rmse:0.001918\tvalidation_0-wMSE:44.2233\n",
      "[54]\tvalidation_0-rmse:0.001771\tvalidation_0-wMSE:36.0832\n",
      "[55]\tvalidation_0-rmse:0.001642\tvalidation_0-wMSE:29.5138\n",
      "[56]\tvalidation_0-rmse:0.00153\tvalidation_0-wMSE:24.1545\n",
      "[57]\tvalidation_0-rmse:0.001433\tvalidation_0-wMSE:19.8354\n",
      "[58]\tvalidation_0-rmse:0.00135\tvalidation_0-wMSE:16.3277\n",
      "[59]\tvalidation_0-rmse:0.001278\tvalidation_0-wMSE:13.4412\n",
      "[60]\tvalidation_0-rmse:0.001216\tvalidation_0-wMSE:11.1147\n",
      "[61]\tvalidation_0-rmse:0.001164\tvalidation_0-wMSE:9.23652\n",
      "[62]\tvalidation_0-rmse:0.001121\tvalidation_0-wMSE:7.72123\n",
      "[63]\tvalidation_0-rmse:0.001084\tvalidation_0-wMSE:6.47377\n",
      "[64]\tvalidation_0-rmse:0.001053\tvalidation_0-wMSE:5.45456\n",
      "[65]\tvalidation_0-rmse:0.001027\tvalidation_0-wMSE:4.63508\n",
      "[66]\tvalidation_0-rmse:0.001006\tvalidation_0-wMSE:3.97834\n",
      "[67]\tvalidation_0-rmse:0.000988\tvalidation_0-wMSE:3.44344\n",
      "[68]\tvalidation_0-rmse:0.000974\tvalidation_0-wMSE:3.00959\n",
      "[69]\tvalidation_0-rmse:0.000962\tvalidation_0-wMSE:2.65326\n",
      "[70]\tvalidation_0-rmse:0.000952\tvalidation_0-wMSE:2.35473\n",
      "[71]\tvalidation_0-rmse:0.000944\tvalidation_0-wMSE:2.12595\n",
      "[72]\tvalidation_0-rmse:0.000938\tvalidation_0-wMSE:1.93895\n",
      "[73]\tvalidation_0-rmse:0.000932\tvalidation_0-wMSE:1.79331\n",
      "[74]\tvalidation_0-rmse:0.000928\tvalidation_0-wMSE:1.66811\n",
      "[75]\tvalidation_0-rmse:0.000925\tvalidation_0-wMSE:1.56617\n",
      "[76]\tvalidation_0-rmse:0.000922\tvalidation_0-wMSE:1.47972\n",
      "[77]\tvalidation_0-rmse:0.000919\tvalidation_0-wMSE:1.40667\n",
      "[78]\tvalidation_0-rmse:0.000917\tvalidation_0-wMSE:1.3531\n",
      "[79]\tvalidation_0-rmse:0.000916\tvalidation_0-wMSE:1.30414\n",
      "[80]\tvalidation_0-rmse:0.000914\tvalidation_0-wMSE:1.26789\n",
      "[81]\tvalidation_0-rmse:0.000913\tvalidation_0-wMSE:1.24048\n",
      "[82]\tvalidation_0-rmse:0.000913\tvalidation_0-wMSE:1.21604\n",
      "[83]\tvalidation_0-rmse:0.000912\tvalidation_0-wMSE:1.19383\n",
      "[84]\tvalidation_0-rmse:0.000912\tvalidation_0-wMSE:1.17806\n",
      "[85]\tvalidation_0-rmse:0.000911\tvalidation_0-wMSE:1.16218\n",
      "[86]\tvalidation_0-rmse:0.00091\tvalidation_0-wMSE:1.14594\n",
      "[87]\tvalidation_0-rmse:0.00091\tvalidation_0-wMSE:1.13728\n",
      "[88]\tvalidation_0-rmse:0.000909\tvalidation_0-wMSE:1.12861\n",
      "[89]\tvalidation_0-rmse:0.000909\tvalidation_0-wMSE:1.12265\n",
      "[90]\tvalidation_0-rmse:0.000909\tvalidation_0-wMSE:1.1178\n",
      "[91]\tvalidation_0-rmse:0.000908\tvalidation_0-wMSE:1.11076\n",
      "[92]\tvalidation_0-rmse:0.000908\tvalidation_0-wMSE:1.10658\n",
      "[93]\tvalidation_0-rmse:0.000908\tvalidation_0-wMSE:1.10197\n",
      "[94]\tvalidation_0-rmse:0.000908\tvalidation_0-wMSE:1.0976\n",
      "[95]\tvalidation_0-rmse:0.000907\tvalidation_0-wMSE:1.09626\n",
      "[96]\tvalidation_0-rmse:0.000907\tvalidation_0-wMSE:1.09472\n",
      "[97]\tvalidation_0-rmse:0.000908\tvalidation_0-wMSE:1.09389\n",
      "[98]\tvalidation_0-rmse:0.000908\tvalidation_0-wMSE:1.09323\n",
      "[99]\tvalidation_0-rmse:0.000908\tvalidation_0-wMSE:1.09234\n",
      "[100]\tvalidation_0-rmse:0.000908\tvalidation_0-wMSE:1.0911\n",
      "[101]\tvalidation_0-rmse:0.000908\tvalidation_0-wMSE:1.09033\n",
      "[102]\tvalidation_0-rmse:0.000908\tvalidation_0-wMSE:1.08878\n",
      "[103]\tvalidation_0-rmse:0.000907\tvalidation_0-wMSE:1.08815\n",
      "[104]\tvalidation_0-rmse:0.000907\tvalidation_0-wMSE:1.08529\n",
      "[105]\tvalidation_0-rmse:0.000907\tvalidation_0-wMSE:1.0846\n",
      "[106]\tvalidation_0-rmse:0.000907\tvalidation_0-wMSE:1.08447\n",
      "[107]\tvalidation_0-rmse:0.000907\tvalidation_0-wMSE:1.08435\n",
      "[108]\tvalidation_0-rmse:0.000907\tvalidation_0-wMSE:1.08453\n",
      "[109]\tvalidation_0-rmse:0.000907\tvalidation_0-wMSE:1.08228\n",
      "[110]\tvalidation_0-rmse:0.000907\tvalidation_0-wMSE:1.08251\n",
      "[111]\tvalidation_0-rmse:0.000907\tvalidation_0-wMSE:1.08224\n",
      "[112]\tvalidation_0-rmse:0.000906\tvalidation_0-wMSE:1.08073\n",
      "[113]\tvalidation_0-rmse:0.000906\tvalidation_0-wMSE:1.07858\n",
      "[114]\tvalidation_0-rmse:0.000906\tvalidation_0-wMSE:1.07849\n",
      "[115]\tvalidation_0-rmse:0.000906\tvalidation_0-wMSE:1.07836\n",
      "[116]\tvalidation_0-rmse:0.000906\tvalidation_0-wMSE:1.07858\n",
      "[117]\tvalidation_0-rmse:0.000906\tvalidation_0-wMSE:1.07853\n",
      "[118]\tvalidation_0-rmse:0.000906\tvalidation_0-wMSE:1.07654\n",
      "[119]\tvalidation_0-rmse:0.000906\tvalidation_0-wMSE:1.07653\n",
      "[120]\tvalidation_0-rmse:0.000906\tvalidation_0-wMSE:1.07608\n",
      "[121]\tvalidation_0-rmse:0.000906\tvalidation_0-wMSE:1.07599\n",
      "[122]\tvalidation_0-rmse:0.000906\tvalidation_0-wMSE:1.07606\n",
      "[123]\tvalidation_0-rmse:0.000906\tvalidation_0-wMSE:1.07577\n",
      "[124]\tvalidation_0-rmse:0.000906\tvalidation_0-wMSE:1.07599\n",
      "[125]\tvalidation_0-rmse:0.000906\tvalidation_0-wMSE:1.07626\n",
      "[126]\tvalidation_0-rmse:0.000906\tvalidation_0-wMSE:1.0761\n",
      "[127]\tvalidation_0-rmse:0.000906\tvalidation_0-wMSE:1.07638\n",
      "[128]\tvalidation_0-rmse:0.000906\tvalidation_0-wMSE:1.07544\n",
      "[129]\tvalidation_0-rmse:0.000906\tvalidation_0-wMSE:1.0751\n",
      "[130]\tvalidation_0-rmse:0.000906\tvalidation_0-wMSE:1.07511\n",
      "[131]\tvalidation_0-rmse:0.000906\tvalidation_0-wMSE:1.0742\n",
      "[132]\tvalidation_0-rmse:0.000906\tvalidation_0-wMSE:1.0738\n",
      "[133]\tvalidation_0-rmse:0.000906\tvalidation_0-wMSE:1.07317\n",
      "[134]\tvalidation_0-rmse:0.000906\tvalidation_0-wMSE:1.07327\n",
      "[135]\tvalidation_0-rmse:0.000906\tvalidation_0-wMSE:1.07311\n",
      "[136]\tvalidation_0-rmse:0.000906\tvalidation_0-wMSE:1.07292\n",
      "[137]\tvalidation_0-rmse:0.000906\tvalidation_0-wMSE:1.07305\n",
      "[138]\tvalidation_0-rmse:0.000906\tvalidation_0-wMSE:1.07313\n"
     ]
    },
    {
     "name": "stdout",
     "output_type": "stream",
     "text": [
      "[139]\tvalidation_0-rmse:0.000906\tvalidation_0-wMSE:1.07311\n",
      "[140]\tvalidation_0-rmse:0.000906\tvalidation_0-wMSE:1.07324\n",
      "[141]\tvalidation_0-rmse:0.000906\tvalidation_0-wMSE:1.07256\n",
      "[142]\tvalidation_0-rmse:0.000906\tvalidation_0-wMSE:1.07211\n",
      "[143]\tvalidation_0-rmse:0.000906\tvalidation_0-wMSE:1.0724\n",
      "[144]\tvalidation_0-rmse:0.000906\tvalidation_0-wMSE:1.07199\n",
      "[145]\tvalidation_0-rmse:0.000905\tvalidation_0-wMSE:1.0719\n",
      "[146]\tvalidation_0-rmse:0.000905\tvalidation_0-wMSE:1.07173\n",
      "[147]\tvalidation_0-rmse:0.000905\tvalidation_0-wMSE:1.07167\n",
      "[148]\tvalidation_0-rmse:0.000905\tvalidation_0-wMSE:1.06914\n",
      "[149]\tvalidation_0-rmse:0.000905\tvalidation_0-wMSE:1.06912\n",
      "[150]\tvalidation_0-rmse:0.000905\tvalidation_0-wMSE:1.06825\n",
      "[151]\tvalidation_0-rmse:0.000905\tvalidation_0-wMSE:1.0685\n",
      "[152]\tvalidation_0-rmse:0.000905\tvalidation_0-wMSE:1.06831\n",
      "[153]\tvalidation_0-rmse:0.000905\tvalidation_0-wMSE:1.06795\n",
      "[154]\tvalidation_0-rmse:0.000905\tvalidation_0-wMSE:1.06797\n",
      "[155]\tvalidation_0-rmse:0.000905\tvalidation_0-wMSE:1.06811\n",
      "[156]\tvalidation_0-rmse:0.000905\tvalidation_0-wMSE:1.06809\n",
      "[157]\tvalidation_0-rmse:0.000905\tvalidation_0-wMSE:1.06796\n",
      "[158]\tvalidation_0-rmse:0.000905\tvalidation_0-wMSE:1.06529\n",
      "[159]\tvalidation_0-rmse:0.000905\tvalidation_0-wMSE:1.06518\n",
      "[160]\tvalidation_0-rmse:0.000905\tvalidation_0-wMSE:1.0655\n",
      "[161]\tvalidation_0-rmse:0.000905\tvalidation_0-wMSE:1.0656\n",
      "[162]\tvalidation_0-rmse:0.000905\tvalidation_0-wMSE:1.0656\n",
      "[163]\tvalidation_0-rmse:0.000905\tvalidation_0-wMSE:1.06566\n",
      "[164]\tvalidation_0-rmse:0.000905\tvalidation_0-wMSE:1.065\n",
      "[165]\tvalidation_0-rmse:0.000905\tvalidation_0-wMSE:1.06501\n",
      "[166]\tvalidation_0-rmse:0.000905\tvalidation_0-wMSE:1.06465\n",
      "[167]\tvalidation_0-rmse:0.000905\tvalidation_0-wMSE:1.06472\n",
      "[168]\tvalidation_0-rmse:0.000905\tvalidation_0-wMSE:1.06478\n",
      "[169]\tvalidation_0-rmse:0.000905\tvalidation_0-wMSE:1.06445\n",
      "[170]\tvalidation_0-rmse:0.000905\tvalidation_0-wMSE:1.06466\n",
      "[171]\tvalidation_0-rmse:0.000905\tvalidation_0-wMSE:1.06478\n",
      "[172]\tvalidation_0-rmse:0.000906\tvalidation_0-wMSE:1.06437\n",
      "[173]\tvalidation_0-rmse:0.000905\tvalidation_0-wMSE:1.0639\n",
      "[174]\tvalidation_0-rmse:0.000905\tvalidation_0-wMSE:1.06363\n",
      "[175]\tvalidation_0-rmse:0.000905\tvalidation_0-wMSE:1.06341\n",
      "[176]\tvalidation_0-rmse:0.000905\tvalidation_0-wMSE:1.06318\n",
      "[177]\tvalidation_0-rmse:0.000905\tvalidation_0-wMSE:1.06255\n",
      "[178]\tvalidation_0-rmse:0.000905\tvalidation_0-wMSE:1.06213\n",
      "[179]\tvalidation_0-rmse:0.000905\tvalidation_0-wMSE:1.06197\n",
      "[180]\tvalidation_0-rmse:0.000905\tvalidation_0-wMSE:1.06194\n",
      "[181]\tvalidation_0-rmse:0.000905\tvalidation_0-wMSE:1.06189\n",
      "[182]\tvalidation_0-rmse:0.000905\tvalidation_0-wMSE:1.06184\n",
      "[183]\tvalidation_0-rmse:0.000905\tvalidation_0-wMSE:1.06173\n",
      "[184]\tvalidation_0-rmse:0.000905\tvalidation_0-wMSE:1.06178\n",
      "[185]\tvalidation_0-rmse:0.000905\tvalidation_0-wMSE:1.05998\n",
      "[186]\tvalidation_0-rmse:0.000905\tvalidation_0-wMSE:1.0598\n",
      "[187]\tvalidation_0-rmse:0.000905\tvalidation_0-wMSE:1.0589\n",
      "[188]\tvalidation_0-rmse:0.000905\tvalidation_0-wMSE:1.05873\n",
      "[189]\tvalidation_0-rmse:0.000905\tvalidation_0-wMSE:1.05873\n",
      "[190]\tvalidation_0-rmse:0.000905\tvalidation_0-wMSE:1.05865\n",
      "[191]\tvalidation_0-rmse:0.000905\tvalidation_0-wMSE:1.05835\n",
      "[192]\tvalidation_0-rmse:0.000905\tvalidation_0-wMSE:1.05724\n",
      "[193]\tvalidation_0-rmse:0.000905\tvalidation_0-wMSE:1.05726\n",
      "[194]\tvalidation_0-rmse:0.000905\tvalidation_0-wMSE:1.05677\n",
      "[195]\tvalidation_0-rmse:0.000905\tvalidation_0-wMSE:1.0568\n",
      "[196]\tvalidation_0-rmse:0.000905\tvalidation_0-wMSE:1.05685\n",
      "[197]\tvalidation_0-rmse:0.000905\tvalidation_0-wMSE:1.05686\n",
      "[198]\tvalidation_0-rmse:0.000905\tvalidation_0-wMSE:1.05687\n",
      "[199]\tvalidation_0-rmse:0.000905\tvalidation_0-wMSE:1.05666\n",
      "[200]\tvalidation_0-rmse:0.000905\tvalidation_0-wMSE:1.05667\n",
      "[201]\tvalidation_0-rmse:0.000905\tvalidation_0-wMSE:1.057\n",
      "[202]\tvalidation_0-rmse:0.000905\tvalidation_0-wMSE:1.05701\n",
      "[203]\tvalidation_0-rmse:0.000905\tvalidation_0-wMSE:1.05701\n",
      "[204]\tvalidation_0-rmse:0.000905\tvalidation_0-wMSE:1.05693\n",
      "[205]\tvalidation_0-rmse:0.000905\tvalidation_0-wMSE:1.05673\n",
      "[206]\tvalidation_0-rmse:0.000905\tvalidation_0-wMSE:1.05549\n",
      "[207]\tvalidation_0-rmse:0.000905\tvalidation_0-wMSE:1.05531\n",
      "[208]\tvalidation_0-rmse:0.000905\tvalidation_0-wMSE:1.05522\n",
      "[209]\tvalidation_0-rmse:0.000905\tvalidation_0-wMSE:1.05506\n",
      "[210]\tvalidation_0-rmse:0.000905\tvalidation_0-wMSE:1.05509\n",
      "[211]\tvalidation_0-rmse:0.000905\tvalidation_0-wMSE:1.0551\n",
      "[212]\tvalidation_0-rmse:0.000905\tvalidation_0-wMSE:1.05512\n",
      "[213]\tvalidation_0-rmse:0.000905\tvalidation_0-wMSE:1.05491\n",
      "[214]\tvalidation_0-rmse:0.000905\tvalidation_0-wMSE:1.05371\n",
      "[215]\tvalidation_0-rmse:0.000905\tvalidation_0-wMSE:1.05372\n",
      "[216]\tvalidation_0-rmse:0.000904\tvalidation_0-wMSE:1.05354\n",
      "[217]\tvalidation_0-rmse:0.000905\tvalidation_0-wMSE:1.05361\n",
      "[218]\tvalidation_0-rmse:0.000904\tvalidation_0-wMSE:1.05345\n",
      "[219]\tvalidation_0-rmse:0.000904\tvalidation_0-wMSE:1.05353\n",
      "[220]\tvalidation_0-rmse:0.000904\tvalidation_0-wMSE:1.05346\n",
      "[221]\tvalidation_0-rmse:0.000904\tvalidation_0-wMSE:1.05362\n",
      "[222]\tvalidation_0-rmse:0.000904\tvalidation_0-wMSE:1.053\n",
      "[223]\tvalidation_0-rmse:0.000904\tvalidation_0-wMSE:1.05304\n",
      "[224]\tvalidation_0-rmse:0.000904\tvalidation_0-wMSE:1.05302\n",
      "[225]\tvalidation_0-rmse:0.000904\tvalidation_0-wMSE:1.05269\n",
      "[226]\tvalidation_0-rmse:0.000904\tvalidation_0-wMSE:1.05214\n",
      "[227]\tvalidation_0-rmse:0.000904\tvalidation_0-wMSE:1.05259\n",
      "[228]\tvalidation_0-rmse:0.000904\tvalidation_0-wMSE:1.0526\n",
      "[229]\tvalidation_0-rmse:0.000904\tvalidation_0-wMSE:1.05265\n",
      "[230]\tvalidation_0-rmse:0.000904\tvalidation_0-wMSE:1.05251\n",
      "[231]\tvalidation_0-rmse:0.000904\tvalidation_0-wMSE:1.05239\n",
      "[232]\tvalidation_0-rmse:0.000904\tvalidation_0-wMSE:1.05244\n",
      "[233]\tvalidation_0-rmse:0.000904\tvalidation_0-wMSE:1.05232\n",
      "[234]\tvalidation_0-rmse:0.000904\tvalidation_0-wMSE:1.05223\n",
      "[235]\tvalidation_0-rmse:0.000904\tvalidation_0-wMSE:1.05203\n",
      "[236]\tvalidation_0-rmse:0.000904\tvalidation_0-wMSE:1.05185\n",
      "[237]\tvalidation_0-rmse:0.000904\tvalidation_0-wMSE:1.05117\n",
      "[238]\tvalidation_0-rmse:0.000904\tvalidation_0-wMSE:1.05113\n",
      "[239]\tvalidation_0-rmse:0.000904\tvalidation_0-wMSE:1.05116\n",
      "[240]\tvalidation_0-rmse:0.000904\tvalidation_0-wMSE:1.0504\n",
      "[241]\tvalidation_0-rmse:0.000904\tvalidation_0-wMSE:1.05108\n",
      "[242]\tvalidation_0-rmse:0.000904\tvalidation_0-wMSE:1.0512\n",
      "[243]\tvalidation_0-rmse:0.000904\tvalidation_0-wMSE:1.05134\n",
      "[244]\tvalidation_0-rmse:0.000904\tvalidation_0-wMSE:1.05105\n",
      "[245]\tvalidation_0-rmse:0.000904\tvalidation_0-wMSE:1.05112\n",
      "[246]\tvalidation_0-rmse:0.000904\tvalidation_0-wMSE:1.05009\n",
      "[247]\tvalidation_0-rmse:0.000904\tvalidation_0-wMSE:1.05015\n",
      "[248]\tvalidation_0-rmse:0.000904\tvalidation_0-wMSE:1.05019\n",
      "[249]\tvalidation_0-rmse:0.000904\tvalidation_0-wMSE:1.05022\n",
      "[250]\tvalidation_0-rmse:0.000904\tvalidation_0-wMSE:1.05003\n",
      "[251]\tvalidation_0-rmse:0.000904\tvalidation_0-wMSE:1.05014\n",
      "[252]\tvalidation_0-rmse:0.000904\tvalidation_0-wMSE:1.05013\n",
      "[253]\tvalidation_0-rmse:0.000904\tvalidation_0-wMSE:1.04909\n",
      "[254]\tvalidation_0-rmse:0.000904\tvalidation_0-wMSE:1.04914\n",
      "[255]\tvalidation_0-rmse:0.000904\tvalidation_0-wMSE:1.04932\n",
      "[256]\tvalidation_0-rmse:0.000904\tvalidation_0-wMSE:1.04941\n",
      "[257]\tvalidation_0-rmse:0.000904\tvalidation_0-wMSE:1.04942\n",
      "[258]\tvalidation_0-rmse:0.000904\tvalidation_0-wMSE:1.04946\n",
      "[259]\tvalidation_0-rmse:0.000904\tvalidation_0-wMSE:1.04999\n",
      "[260]\tvalidation_0-rmse:0.000904\tvalidation_0-wMSE:1.05005\n",
      "[261]\tvalidation_0-rmse:0.000905\tvalidation_0-wMSE:1.05032\n",
      "[262]\tvalidation_0-rmse:0.000904\tvalidation_0-wMSE:1.05005\n",
      "[263]\tvalidation_0-rmse:0.000904\tvalidation_0-wMSE:1.04885\n",
      "[264]\tvalidation_0-rmse:0.000904\tvalidation_0-wMSE:1.04916\n",
      "[265]\tvalidation_0-rmse:0.000904\tvalidation_0-wMSE:1.0492\n",
      "[266]\tvalidation_0-rmse:0.000904\tvalidation_0-wMSE:1.04916\n",
      "[267]\tvalidation_0-rmse:0.000904\tvalidation_0-wMSE:1.04907\n",
      "[268]\tvalidation_0-rmse:0.000904\tvalidation_0-wMSE:1.0491\n",
      "[269]\tvalidation_0-rmse:0.000904\tvalidation_0-wMSE:1.04884\n",
      "[270]\tvalidation_0-rmse:0.000904\tvalidation_0-wMSE:1.04876\n",
      "[271]\tvalidation_0-rmse:0.000904\tvalidation_0-wMSE:1.04875\n",
      "[272]\tvalidation_0-rmse:0.000904\tvalidation_0-wMSE:1.04879\n",
      "[273]\tvalidation_0-rmse:0.000904\tvalidation_0-wMSE:1.04878\n",
      "[274]\tvalidation_0-rmse:0.000904\tvalidation_0-wMSE:1.04879\n",
      "[275]\tvalidation_0-rmse:0.000904\tvalidation_0-wMSE:1.0487\n",
      "[276]\tvalidation_0-rmse:0.000904\tvalidation_0-wMSE:1.04699\n",
      "[277]\tvalidation_0-rmse:0.000904\tvalidation_0-wMSE:1.04664\n",
      "[278]\tvalidation_0-rmse:0.000904\tvalidation_0-wMSE:1.04689\n"
     ]
    },
    {
     "name": "stdout",
     "output_type": "stream",
     "text": [
      "[279]\tvalidation_0-rmse:0.000904\tvalidation_0-wMSE:1.04702\n",
      "[280]\tvalidation_0-rmse:0.000904\tvalidation_0-wMSE:1.04699\n",
      "[281]\tvalidation_0-rmse:0.000904\tvalidation_0-wMSE:1.04708\n",
      "[282]\tvalidation_0-rmse:0.000904\tvalidation_0-wMSE:1.04742\n",
      "[283]\tvalidation_0-rmse:0.000904\tvalidation_0-wMSE:1.0473\n",
      "[284]\tvalidation_0-rmse:0.000904\tvalidation_0-wMSE:1.04724\n",
      "[285]\tvalidation_0-rmse:0.000904\tvalidation_0-wMSE:1.04727\n",
      "[286]\tvalidation_0-rmse:0.000904\tvalidation_0-wMSE:1.04721\n",
      "[287]\tvalidation_0-rmse:0.000904\tvalidation_0-wMSE:1.04658\n",
      "[288]\tvalidation_0-rmse:0.000904\tvalidation_0-wMSE:1.04652\n",
      "[289]\tvalidation_0-rmse:0.000904\tvalidation_0-wMSE:1.04667\n",
      "[290]\tvalidation_0-rmse:0.000904\tvalidation_0-wMSE:1.04663\n",
      "[291]\tvalidation_0-rmse:0.000904\tvalidation_0-wMSE:1.04664\n",
      "[292]\tvalidation_0-rmse:0.000904\tvalidation_0-wMSE:1.04661\n",
      "[293]\tvalidation_0-rmse:0.000904\tvalidation_0-wMSE:1.04665\n",
      "[294]\tvalidation_0-rmse:0.000904\tvalidation_0-wMSE:1.04643\n",
      "[295]\tvalidation_0-rmse:0.000904\tvalidation_0-wMSE:1.04666\n",
      "[296]\tvalidation_0-rmse:0.000904\tvalidation_0-wMSE:1.04647\n",
      "[297]\tvalidation_0-rmse:0.000904\tvalidation_0-wMSE:1.04654\n",
      "[298]\tvalidation_0-rmse:0.000904\tvalidation_0-wMSE:1.04665\n",
      "[299]\tvalidation_0-rmse:0.000904\tvalidation_0-wMSE:1.04667\n",
      "[300]\tvalidation_0-rmse:0.000904\tvalidation_0-wMSE:1.04656\n",
      "[301]\tvalidation_0-rmse:0.000904\tvalidation_0-wMSE:1.04611\n",
      "[302]\tvalidation_0-rmse:0.000904\tvalidation_0-wMSE:1.04588\n",
      "[303]\tvalidation_0-rmse:0.000904\tvalidation_0-wMSE:1.04597\n",
      "[304]\tvalidation_0-rmse:0.000904\tvalidation_0-wMSE:1.04605\n",
      "[305]\tvalidation_0-rmse:0.000904\tvalidation_0-wMSE:1.04606\n",
      "[306]\tvalidation_0-rmse:0.000904\tvalidation_0-wMSE:1.04553\n",
      "[307]\tvalidation_0-rmse:0.000904\tvalidation_0-wMSE:1.04576\n",
      "[308]\tvalidation_0-rmse:0.000904\tvalidation_0-wMSE:1.04567\n",
      "[309]\tvalidation_0-rmse:0.000904\tvalidation_0-wMSE:1.04566\n",
      "[310]\tvalidation_0-rmse:0.000905\tvalidation_0-wMSE:1.04576\n",
      "[311]\tvalidation_0-rmse:0.000905\tvalidation_0-wMSE:1.04588\n",
      "[312]\tvalidation_0-rmse:0.000905\tvalidation_0-wMSE:1.04587\n",
      "[313]\tvalidation_0-rmse:0.000905\tvalidation_0-wMSE:1.0459\n",
      "[314]\tvalidation_0-rmse:0.000905\tvalidation_0-wMSE:1.04585\n",
      "[315]\tvalidation_0-rmse:0.000905\tvalidation_0-wMSE:1.04587\n",
      "[316]\tvalidation_0-rmse:0.000905\tvalidation_0-wMSE:1.04574\n",
      "[317]\tvalidation_0-rmse:0.000905\tvalidation_0-wMSE:1.04592\n",
      "[318]\tvalidation_0-rmse:0.000905\tvalidation_0-wMSE:1.04587\n",
      "[319]\tvalidation_0-rmse:0.000905\tvalidation_0-wMSE:1.0459\n",
      "[320]\tvalidation_0-rmse:0.000905\tvalidation_0-wMSE:1.04586\n",
      "[321]\tvalidation_0-rmse:0.000905\tvalidation_0-wMSE:1.04591\n",
      "[322]\tvalidation_0-rmse:0.000905\tvalidation_0-wMSE:1.04494\n",
      "[323]\tvalidation_0-rmse:0.000905\tvalidation_0-wMSE:1.04493\n",
      "[324]\tvalidation_0-rmse:0.000905\tvalidation_0-wMSE:1.04495\n",
      "[325]\tvalidation_0-rmse:0.000905\tvalidation_0-wMSE:1.04493\n",
      "[326]\tvalidation_0-rmse:0.000905\tvalidation_0-wMSE:1.04485\n",
      "[327]\tvalidation_0-rmse:0.000905\tvalidation_0-wMSE:1.0448\n",
      "[328]\tvalidation_0-rmse:0.000905\tvalidation_0-wMSE:1.04484\n",
      "[329]\tvalidation_0-rmse:0.000905\tvalidation_0-wMSE:1.04467\n",
      "[330]\tvalidation_0-rmse:0.000905\tvalidation_0-wMSE:1.045\n",
      "[331]\tvalidation_0-rmse:0.000905\tvalidation_0-wMSE:1.0451\n",
      "[332]\tvalidation_0-rmse:0.000905\tvalidation_0-wMSE:1.04496\n",
      "[333]\tvalidation_0-rmse:0.000905\tvalidation_0-wMSE:1.04503\n",
      "[334]\tvalidation_0-rmse:0.000905\tvalidation_0-wMSE:1.04508\n",
      "[335]\tvalidation_0-rmse:0.000905\tvalidation_0-wMSE:1.0451\n",
      "[336]\tvalidation_0-rmse:0.000905\tvalidation_0-wMSE:1.04521\n",
      "[337]\tvalidation_0-rmse:0.000905\tvalidation_0-wMSE:1.04522\n",
      "[338]\tvalidation_0-rmse:0.000905\tvalidation_0-wMSE:1.04534\n",
      "[339]\tvalidation_0-rmse:0.000905\tvalidation_0-wMSE:1.0445\n",
      "[340]\tvalidation_0-rmse:0.000905\tvalidation_0-wMSE:1.04458\n",
      "[341]\tvalidation_0-rmse:0.000905\tvalidation_0-wMSE:1.04461\n",
      "[342]\tvalidation_0-rmse:0.000905\tvalidation_0-wMSE:1.04514\n",
      "[343]\tvalidation_0-rmse:0.000905\tvalidation_0-wMSE:1.04512\n",
      "[344]\tvalidation_0-rmse:0.000905\tvalidation_0-wMSE:1.04526\n",
      "[345]\tvalidation_0-rmse:0.000905\tvalidation_0-wMSE:1.04581\n",
      "[346]\tvalidation_0-rmse:0.000905\tvalidation_0-wMSE:1.04584\n",
      "[347]\tvalidation_0-rmse:0.000905\tvalidation_0-wMSE:1.04532\n",
      "[348]\tvalidation_0-rmse:0.000905\tvalidation_0-wMSE:1.0453\n",
      "[349]\tvalidation_0-rmse:0.000905\tvalidation_0-wMSE:1.04529\n",
      "[350]\tvalidation_0-rmse:0.000905\tvalidation_0-wMSE:1.04532\n",
      "[351]\tvalidation_0-rmse:0.000905\tvalidation_0-wMSE:1.0444\n",
      "[352]\tvalidation_0-rmse:0.000905\tvalidation_0-wMSE:1.0443\n",
      "[353]\tvalidation_0-rmse:0.000905\tvalidation_0-wMSE:1.04431\n",
      "[354]\tvalidation_0-rmse:0.000905\tvalidation_0-wMSE:1.04462\n",
      "[355]\tvalidation_0-rmse:0.000905\tvalidation_0-wMSE:1.04456\n",
      "[356]\tvalidation_0-rmse:0.000905\tvalidation_0-wMSE:1.04456\n",
      "[357]\tvalidation_0-rmse:0.000905\tvalidation_0-wMSE:1.04461\n",
      "[358]\tvalidation_0-rmse:0.000905\tvalidation_0-wMSE:1.04415\n",
      "[359]\tvalidation_0-rmse:0.000905\tvalidation_0-wMSE:1.04357\n",
      "[360]\tvalidation_0-rmse:0.000905\tvalidation_0-wMSE:1.04367\n",
      "[361]\tvalidation_0-rmse:0.000905\tvalidation_0-wMSE:1.04369\n",
      "[362]\tvalidation_0-rmse:0.000905\tvalidation_0-wMSE:1.04406\n",
      "[363]\tvalidation_0-rmse:0.000905\tvalidation_0-wMSE:1.04404\n",
      "[364]\tvalidation_0-rmse:0.000905\tvalidation_0-wMSE:1.04408\n",
      "[365]\tvalidation_0-rmse:0.000905\tvalidation_0-wMSE:1.04402\n",
      "[366]\tvalidation_0-rmse:0.000905\tvalidation_0-wMSE:1.04379\n",
      "[367]\tvalidation_0-rmse:0.000905\tvalidation_0-wMSE:1.04402\n",
      "[368]\tvalidation_0-rmse:0.000905\tvalidation_0-wMSE:1.04417\n",
      "[369]\tvalidation_0-rmse:0.000905\tvalidation_0-wMSE:1.04414\n",
      "[370]\tvalidation_0-rmse:0.000906\tvalidation_0-wMSE:1.0442\n",
      "[371]\tvalidation_0-rmse:0.000906\tvalidation_0-wMSE:1.04422\n",
      "[372]\tvalidation_0-rmse:0.000906\tvalidation_0-wMSE:1.04373\n",
      "[373]\tvalidation_0-rmse:0.000906\tvalidation_0-wMSE:1.04368\n",
      "[374]\tvalidation_0-rmse:0.000906\tvalidation_0-wMSE:1.04397\n",
      "[375]\tvalidation_0-rmse:0.000906\tvalidation_0-wMSE:1.04404\n",
      "[376]\tvalidation_0-rmse:0.000906\tvalidation_0-wMSE:1.04408\n",
      "[377]\tvalidation_0-rmse:0.000906\tvalidation_0-wMSE:1.04415\n",
      "[378]\tvalidation_0-rmse:0.000906\tvalidation_0-wMSE:1.04414\n",
      "[379]\tvalidation_0-rmse:0.000906\tvalidation_0-wMSE:1.0443\n",
      "[380]\tvalidation_0-rmse:0.000906\tvalidation_0-wMSE:1.04413\n",
      "[381]\tvalidation_0-rmse:0.000906\tvalidation_0-wMSE:1.04415\n",
      "[382]\tvalidation_0-rmse:0.000906\tvalidation_0-wMSE:1.04429\n",
      "[383]\tvalidation_0-rmse:0.000906\tvalidation_0-wMSE:1.04415\n",
      "[384]\tvalidation_0-rmse:0.000906\tvalidation_0-wMSE:1.0439\n",
      "[385]\tvalidation_0-rmse:0.000906\tvalidation_0-wMSE:1.04387\n",
      "[386]\tvalidation_0-rmse:0.000906\tvalidation_0-wMSE:1.04385\n",
      "[387]\tvalidation_0-rmse:0.000906\tvalidation_0-wMSE:1.04379\n",
      "[388]\tvalidation_0-rmse:0.000906\tvalidation_0-wMSE:1.04377\n",
      "[389]\tvalidation_0-rmse:0.000906\tvalidation_0-wMSE:1.04392\n",
      "Stopping. Best iteration:\n",
      "[359]\tvalidation_0-rmse:0.000905\tvalidation_0-wMSE:1.04357\n",
      "\n"
     ]
    },
    {
     "data": {
      "text/plain": [
       "XGBRegressor(base_score=0.5, booster='gbtree', colsample_bylevel=1,\n",
       "       colsample_bytree=1, gamma=0, learning_rate=0.1, max_delta_step=0,\n",
       "       max_depth=3, min_child_weight=1, missing=None, n_estimators=700,\n",
       "       n_jobs=-1, nthread=None, objective='reg:linear', random_state=0,\n",
       "       reg_alpha=0, reg_lambda=1, scale_pos_weight=1, seed=None,\n",
       "       silent=True, subsample=1)"
      ]
     },
     "execution_count": 35,
     "metadata": {},
     "output_type": "execute_result"
    }
   ],
   "source": [
    "model = xgb.sklearn.XGBRegressor(n_estimators=700, n_jobs=-1)\n",
    "model.fit(X_train, y_train, eval_set=[(X_val, y_val)], eval_metric=eval_error, verbose=True, early_stopping_rounds=30)"
   ]
  },
  {
   "cell_type": "code",
   "execution_count": 58,
   "metadata": {},
   "outputs": [
    {
     "data": {
      "image/png": "[encoded data removed]",
      "text/plain": [
       "<matplotlib.figure.Figure at 0x1a1bbf87f0>"
      ]
     },
     "metadata": {},
     "output_type": "display_data"
    }
   ],
   "source": [
    "fig, ax = plt.subplots(nrows=1, ncols=2, figsize=[10,5])\n",
    "ax[0].plot(model.evals_result()['validation_0']['wMSE'])\n",
    "ax[0].set_ylabel('wMSE')\n",
    "ax[0].set_xlabel('Number of iterations')\n",
    "ax[0].set_title('Early stopping')\n",
    "\n",
    "ax[1].plot(model.evals_result()['validation_0']['rmse'])\n",
    "ax[1].set_ylabel('rmse')\n",
    "ax[1].set_xlabel('Number of iterations')\n",
    "ax[1].set_title('Early stopping')\n",
    "\n",
    "plt.tight_layout()"
   ]
  },
  {
   "cell_type": "code",
   "execution_count": 63,
   "metadata": {
    "collapsed": true
   },
   "outputs": [],
   "source": [
    "# Custom validation set evaluation metric to pass to lightgbm\n",
    "def eval_error_lgb(preds, dtrain): \n",
    "    labels = dtrain\n",
    "    assert len(preds) == len(labels)\n",
    "    labels = np.array(labels.tolist())\n",
    "    preds = np.array(preds.tolist())\n",
    "    err = wMSE(preds=preds, y=labels, weights=weights_val)\n",
    "    return 'wMSE', err*1e6, False"
   ]
  },
  {
   "cell_type": "code",
   "execution_count": 67,
   "metadata": {},
   "outputs": [
    {
     "name": "stdout",
     "output_type": "stream",
     "text": [
      "[1]\tvalid_0's l2: 9.8206e-07\tvalid_0's wMSE: 1.53371\n",
      "Training until validation scores don't improve for 30 rounds.\n",
      "[2]\tvalid_0's l2: 9.57123e-07\tvalid_0's wMSE: 1.46317\n",
      "[3]\tvalid_0's l2: 9.36845e-07\tvalid_0's wMSE: 1.40897\n",
      "[4]\tvalid_0's l2: 9.18085e-07\tvalid_0's wMSE: 1.35744\n",
      "[5]\tvalid_0's l2: 9.02684e-07\tvalid_0's wMSE: 1.31494\n",
      "[6]\tvalid_0's l2: 8.90652e-07\tvalid_0's wMSE: 1.28172\n",
      "[7]\tvalid_0's l2: 8.7915e-07\tvalid_0's wMSE: 1.24789\n",
      "[8]\tvalid_0's l2: 8.70389e-07\tvalid_0's wMSE: 1.22496\n",
      "[9]\tvalid_0's l2: 8.62743e-07\tvalid_0's wMSE: 1.20433\n",
      "[10]\tvalid_0's l2: 8.56567e-07\tvalid_0's wMSE: 1.18838\n",
      "[11]\tvalid_0's l2: 8.50851e-07\tvalid_0's wMSE: 1.17436\n",
      "[12]\tvalid_0's l2: 8.45015e-07\tvalid_0's wMSE: 1.15999\n",
      "[13]\tvalid_0's l2: 8.40297e-07\tvalid_0's wMSE: 1.14852\n",
      "[14]\tvalid_0's l2: 8.36298e-07\tvalid_0's wMSE: 1.13914\n",
      "[15]\tvalid_0's l2: 8.32289e-07\tvalid_0's wMSE: 1.12712\n",
      "[16]\tvalid_0's l2: 8.29246e-07\tvalid_0's wMSE: 1.12161\n",
      "[17]\tvalid_0's l2: 8.25769e-07\tvalid_0's wMSE: 1.11388\n",
      "[18]\tvalid_0's l2: 8.23438e-07\tvalid_0's wMSE: 1.10565\n",
      "[19]\tvalid_0's l2: 8.21435e-07\tvalid_0's wMSE: 1.10046\n",
      "[20]\tvalid_0's l2: 8.18996e-07\tvalid_0's wMSE: 1.09561\n",
      "[21]\tvalid_0's l2: 8.17665e-07\tvalid_0's wMSE: 1.09309\n",
      "[22]\tvalid_0's l2: 8.16146e-07\tvalid_0's wMSE: 1.08665\n",
      "[23]\tvalid_0's l2: 8.1529e-07\tvalid_0's wMSE: 1.08374\n",
      "[24]\tvalid_0's l2: 8.13329e-07\tvalid_0's wMSE: 1.07845\n",
      "[25]\tvalid_0's l2: 8.12134e-07\tvalid_0's wMSE: 1.07525\n",
      "[26]\tvalid_0's l2: 8.11667e-07\tvalid_0's wMSE: 1.07071\n",
      "[27]\tvalid_0's l2: 8.10703e-07\tvalid_0's wMSE: 1.06804\n",
      "[28]\tvalid_0's l2: 8.11243e-07\tvalid_0's wMSE: 1.06838\n",
      "[29]\tvalid_0's l2: 8.10524e-07\tvalid_0's wMSE: 1.06802\n",
      "[30]\tvalid_0's l2: 8.10933e-07\tvalid_0's wMSE: 1.06765\n",
      "[31]\tvalid_0's l2: 8.09799e-07\tvalid_0's wMSE: 1.06543\n",
      "[32]\tvalid_0's l2: 8.0927e-07\tvalid_0's wMSE: 1.06052\n",
      "[33]\tvalid_0's l2: 8.08696e-07\tvalid_0's wMSE: 1.05874\n",
      "[34]\tvalid_0's l2: 8.08559e-07\tvalid_0's wMSE: 1.05817\n",
      "[35]\tvalid_0's l2: 8.07477e-07\tvalid_0's wMSE: 1.05487\n",
      "[36]\tvalid_0's l2: 8.07047e-07\tvalid_0's wMSE: 1.05389\n",
      "[37]\tvalid_0's l2: 8.06335e-07\tvalid_0's wMSE: 1.05019\n",
      "[38]\tvalid_0's l2: 8.07706e-07\tvalid_0's wMSE: 1.0518\n",
      "[39]\tvalid_0's l2: 8.07736e-07\tvalid_0's wMSE: 1.04981\n",
      "[40]\tvalid_0's l2: 8.07682e-07\tvalid_0's wMSE: 1.0498\n",
      "[41]\tvalid_0's l2: 8.0716e-07\tvalid_0's wMSE: 1.04935\n",
      "[42]\tvalid_0's l2: 8.07517e-07\tvalid_0's wMSE: 1.04946\n",
      "[43]\tvalid_0's l2: 8.06973e-07\tvalid_0's wMSE: 1.04822\n",
      "[44]\tvalid_0's l2: 8.06972e-07\tvalid_0's wMSE: 1.04852\n",
      "[45]\tvalid_0's l2: 8.07331e-07\tvalid_0's wMSE: 1.04836\n",
      "[46]\tvalid_0's l2: 8.07953e-07\tvalid_0's wMSE: 1.04873\n",
      "[47]\tvalid_0's l2: 8.07485e-07\tvalid_0's wMSE: 1.04823\n",
      "[48]\tvalid_0's l2: 8.07212e-07\tvalid_0's wMSE: 1.04725\n",
      "[49]\tvalid_0's l2: 8.06938e-07\tvalid_0's wMSE: 1.04703\n",
      "[50]\tvalid_0's l2: 8.06549e-07\tvalid_0's wMSE: 1.04604\n",
      "[51]\tvalid_0's l2: 8.0636e-07\tvalid_0's wMSE: 1.04517\n",
      "[52]\tvalid_0's l2: 8.07095e-07\tvalid_0's wMSE: 1.04539\n",
      "[53]\tvalid_0's l2: 8.06575e-07\tvalid_0's wMSE: 1.04425\n",
      "[54]\tvalid_0's l2: 8.05955e-07\tvalid_0's wMSE: 1.04372\n",
      "[55]\tvalid_0's l2: 8.06635e-07\tvalid_0's wMSE: 1.04242\n",
      "[56]\tvalid_0's l2: 8.06792e-07\tvalid_0's wMSE: 1.04236\n",
      "[57]\tvalid_0's l2: 8.07079e-07\tvalid_0's wMSE: 1.04285\n",
      "[58]\tvalid_0's l2: 8.07657e-07\tvalid_0's wMSE: 1.0433\n",
      "[59]\tvalid_0's l2: 8.07582e-07\tvalid_0's wMSE: 1.04299\n",
      "[60]\tvalid_0's l2: 8.07701e-07\tvalid_0's wMSE: 1.04245\n",
      "[61]\tvalid_0's l2: 8.07653e-07\tvalid_0's wMSE: 1.04138\n",
      "[62]\tvalid_0's l2: 8.07859e-07\tvalid_0's wMSE: 1.04084\n",
      "[63]\tvalid_0's l2: 8.08521e-07\tvalid_0's wMSE: 1.04195\n",
      "[64]\tvalid_0's l2: 8.08439e-07\tvalid_0's wMSE: 1.04123\n",
      "[65]\tvalid_0's l2: 8.08954e-07\tvalid_0's wMSE: 1.04187\n",
      "[66]\tvalid_0's l2: 8.09121e-07\tvalid_0's wMSE: 1.04223\n",
      "[67]\tvalid_0's l2: 8.09165e-07\tvalid_0's wMSE: 1.04211\n",
      "[68]\tvalid_0's l2: 8.09796e-07\tvalid_0's wMSE: 1.04272\n",
      "[69]\tvalid_0's l2: 8.09428e-07\tvalid_0's wMSE: 1.0424\n",
      "[70]\tvalid_0's l2: 8.09085e-07\tvalid_0's wMSE: 1.0402\n",
      "[71]\tvalid_0's l2: 8.08994e-07\tvalid_0's wMSE: 1.0401\n",
      "[72]\tvalid_0's l2: 8.09133e-07\tvalid_0's wMSE: 1.03979\n",
      "[73]\tvalid_0's l2: 8.10059e-07\tvalid_0's wMSE: 1.04022\n",
      "[74]\tvalid_0's l2: 8.10107e-07\tvalid_0's wMSE: 1.04025\n",
      "[75]\tvalid_0's l2: 8.10402e-07\tvalid_0's wMSE: 1.04067\n",
      "[76]\tvalid_0's l2: 8.1032e-07\tvalid_0's wMSE: 1.03945\n",
      "[77]\tvalid_0's l2: 8.10459e-07\tvalid_0's wMSE: 1.04029\n",
      "[78]\tvalid_0's l2: 8.10687e-07\tvalid_0's wMSE: 1.04107\n",
      "[79]\tvalid_0's l2: 8.1051e-07\tvalid_0's wMSE: 1.0403\n",
      "[80]\tvalid_0's l2: 8.10874e-07\tvalid_0's wMSE: 1.04017\n",
      "[81]\tvalid_0's l2: 8.10717e-07\tvalid_0's wMSE: 1.04004\n",
      "[82]\tvalid_0's l2: 8.11013e-07\tvalid_0's wMSE: 1.03991\n",
      "[83]\tvalid_0's l2: 8.1073e-07\tvalid_0's wMSE: 1.03951\n",
      "[84]\tvalid_0's l2: 8.10114e-07\tvalid_0's wMSE: 1.03886\n",
      "Early stopping, best iteration is:\n",
      "[54]\tvalid_0's l2: 8.05955e-07\tvalid_0's wMSE: 1.04372\n"
     ]
    },
    {
     "data": {
      "text/plain": [
       "LGBMRegressor(boosting_type='gbdt', class_weight=None, colsample_bytree=1.0,\n",
       "       learning_rate=0.1, max_depth=-1, min_child_samples=20,\n",
       "       min_child_weight=0.001, min_split_gain=0.0, n_estimators=700,\n",
       "       n_jobs=-1, num_leaves=31, objective=None, random_state=None,\n",
       "       reg_alpha=0.0, reg_lambda=0.0, silent=True, subsample=1.0,\n",
       "       subsample_for_bin=200000, subsample_freq=1)"
      ]
     },
     "execution_count": 67,
     "metadata": {},
     "output_type": "execute_result"
    }
   ],
   "source": [
    "model = lgb.sklearn.LGBMRegressor(n_estimators=700, n_jobs=-1)\n",
    "model.fit(X_train, y_train, eval_set=[(X_val, y_val)], eval_metric=eval_error_lgb, verbose=True, early_stopping_rounds=30)"
   ]
  },
  {
   "cell_type": "markdown",
   "metadata": {},
   "source": [
    "# Train models "
   ]
  },
  {
   "cell_type": "code",
   "execution_count": 88,
   "metadata": {},
   "outputs": [
    {
     "name": "stdout",
     "output_type": "stream",
     "text": [
      "Fitting: XGBRegressor(base_score=0.5, booster='gbtree', colsample_bylevel=1,\n",
      "       colsample_bytree=1, gamma=0, learning_rate=0.1, max_delta_step=0,\n",
      "       max_depth=3, min_child_weight=1, missing=None, n_estimators=360,\n",
      "       n_jobs=-1, nthread=None, objective='reg:linear', random_state=0,\n",
      "       reg_alpha=0, reg_lambda=1, scale_pos_weight=1, seed=None,\n",
      "       silent=True, subsample=1)\n",
      "Train error: 9.32075513062983e-07 Test error: 9.894273116311004e-07 \n",
      "\n",
      "Fitting: LGBMRegressor(boosting_type='gbdt', class_weight=None, colsample_bytree=1.0,\n",
      "       learning_rate=0.1, max_depth=-1, min_child_samples=20,\n",
      "       min_child_weight=0.001, min_split_gain=0.0, n_estimators=60,\n",
      "       n_jobs=-1, num_leaves=31, objective=None, random_state=None,\n",
      "       reg_alpha=0.0, reg_lambda=0.0, silent=True, subsample=1.0,\n",
      "       subsample_for_bin=200000, subsample_freq=1)\n",
      "Train error: 9.423105335945055e-07 Test error: 9.929691710673907e-07 \n",
      "\n"
     ]
    }
   ],
   "source": [
    "# Try number of iterations recommended by early stopping\n",
    "\n",
    "enabled_vars = feats\n",
    "\n",
    "models = OrderedDict([\n",
    "                      ('xgboost', xgb.sklearn.XGBRegressor(n_estimators=360, n_jobs=-1)), \n",
    "                      ('lgboost', lgb.sklearn.LGBMRegressor(n_estimators=60, n_jobs=-1)),\n",
    "                    ])\n",
    "\n",
    "df_preds_train, df_preds_test, train_error, test_error = train_and_test_models(models, \n",
    "                                                         X_train.loc[:,enabled_vars], y_train, \n",
    "                                                         X_val.loc[:,enabled_vars], y_val, \n",
    "                                                         weights_train, weights_val)"
   ]
  },
  {
   "cell_type": "code",
   "execution_count": 73,
   "metadata": {},
   "outputs": [
    {
     "name": "stdout",
     "output_type": "stream",
     "text": [
      "Fitting: XGBRegressor(base_score=0.5, booster='gbtree', colsample_bylevel=1,\n",
      "       colsample_bytree=1, gamma=0, learning_rate=0.1, max_delta_step=0,\n",
      "       max_depth=3, min_child_weight=1, missing=None, n_estimators=700,\n",
      "       n_jobs=-1, nthread=None, objective='reg:linear', random_state=0,\n",
      "       reg_alpha=0, reg_lambda=1, scale_pos_weight=1, seed=None,\n",
      "       silent=True, subsample=1)\n",
      "Train error: 8.718106383687781e-07 Test error: 9.7838339737716e-07 \n",
      "\n",
      "Fitting: LGBMRegressor(boosting_type='gbdt', class_weight=None, colsample_bytree=1.0,\n",
      "       learning_rate=0.1, max_depth=-1, min_child_samples=20,\n",
      "       min_child_weight=0.001, min_split_gain=0.0, n_estimators=700,\n",
      "       n_jobs=-1, num_leaves=31, objective=None, random_state=None,\n",
      "       reg_alpha=0.0, reg_lambda=0.0, silent=True, subsample=1.0,\n",
      "       subsample_for_bin=200000, subsample_freq=1)\n",
      "Train error: 6.37821141588728e-07 Test error: 9.733115952261306e-07 \n",
      "\n"
     ]
    }
   ],
   "source": [
    "# Try more iterations \n",
    "\n",
    "enabled_vars = feats\n",
    "\n",
    "models = OrderedDict([\n",
    "                      ('xgboost', xgb.sklearn.XGBRegressor(n_estimators=700, n_jobs=-1)), \n",
    "                      ('lgboost', lgb.sklearn.LGBMRegressor(n_estimators=700, n_jobs=-1)),\n",
    "                    ])\n",
    "\n",
    "df_preds_train, df_preds_test, train_error, test_error = train_and_test_models(models, \n",
    "                                                         X_train.loc[:,enabled_vars], y_train, \n",
    "                                                         X_val.loc[:,enabled_vars], y_val, \n",
    "                                                         weights_train, weights_val)"
   ]
  },
  {
   "cell_type": "markdown",
   "metadata": {},
   "source": [
    "Adding further iterations introduces a considerable amount of overfitting but mildly improves performance on test set. Consider regularising."
   ]
  },
  {
   "cell_type": "code",
   "execution_count": 106,
   "metadata": {},
   "outputs": [
    {
     "name": "stdout",
     "output_type": "stream",
     "text": [
      "Fitting: LGBMRegressor(boosting_type='gbdt', class_weight=None, colsample_bytree=1.0,\n",
      "       learning_rate=0.1, max_depth=5, min_child_samples=20,\n",
      "       min_child_weight=0.001, min_split_gain=0.0, n_estimators=350,\n",
      "       n_jobs=-1, num_leaves=31, objective=None, random_state=None,\n",
      "       reg_alpha=0.0, reg_lambda=10.0, silent=True, subsample=1.0,\n",
      "       subsample_for_bin=200000, subsample_freq=1)\n",
      "Train error: 8.207052447850005e-07 Test error: 9.68109894359826e-07 \n",
      "\n"
     ]
    }
   ],
   "source": [
    "# Experiment with regularisation\n",
    "\n",
    "enabled_vars = feats\n",
    "\n",
    "models = OrderedDict([\n",
    "                      ('lgboost', lgb.sklearn.LGBMRegressor(n_estimators=350, n_jobs=-1, max_depth=5, reg_lambda=10.0)),\n",
    "                    ])\n",
    "\n",
    "df_preds_train, df_preds_test, train_error, test_error = train_and_test_models(models, \n",
    "                                                         X_train.loc[:,enabled_vars], y_train, \n",
    "                                                         X_val.loc[:,enabled_vars], y_val, \n",
    "                                                         weights_train, weights_val)"
   ]
  },
  {
   "cell_type": "code",
   "execution_count": 107,
   "metadata": {},
   "outputs": [
    {
     "name": "stdout",
     "output_type": "stream",
     "text": [
      "Fitting: XGBRegressor(base_score=0.5, booster='gbtree', colsample_bylevel=1,\n",
      "       colsample_bytree=1, gamma=0, learning_rate=0.1, max_delta_step=0,\n",
      "       max_depth=3, min_child_weight=1, missing=None, n_estimators=350,\n",
      "       n_jobs=-1, nthread=None, objective='reg:linear', random_state=0,\n",
      "       reg_alpha=0, reg_lambda=10, scale_pos_weight=1, seed=None,\n",
      "       silent=True, subsample=1)\n",
      "Train error: 9.525672356098716e-07 Test error: 9.912638194535437e-07 \n",
      "\n"
     ]
    }
   ],
   "source": [
    "# Experiment with regularisation\n",
    "\n",
    "enabled_vars = feats\n",
    "\n",
    "models = OrderedDict([\n",
    "                      ('xgboost', xgb.sklearn.XGBRegressor(n_estimators=350, n_jobs=-1, reg_lambda=10)), \n",
    "                    ])\n",
    "\n",
    "df_preds_train, df_preds_test, train_error, test_error = train_and_test_models(models, \n",
    "                                                         X_train.loc[:,enabled_vars], y_train, \n",
    "                                                         X_val.loc[:,enabled_vars], y_val, \n",
    "                                                         weights_train, weights_val)"
   ]
  },
  {
   "cell_type": "markdown",
   "metadata": {},
   "source": [
    "# Train final model"
   ]
  },
  {
   "cell_type": "code",
   "execution_count": 113,
   "metadata": {},
   "outputs": [
    {
     "name": "stdout",
     "output_type": "stream",
     "text": [
      "Fitting: XGBRegressor(base_score=0.5, booster='gbtree', colsample_bylevel=1,\n",
      "       colsample_bytree=1, gamma=0, learning_rate=0.1, max_delta_step=0,\n",
      "       max_depth=3, min_child_weight=1, missing=None, n_estimators=700,\n",
      "       n_jobs=-1, nthread=None, objective='reg:linear', random_state=0,\n",
      "       reg_alpha=0, reg_lambda=1, scale_pos_weight=1, seed=None,\n",
      "       silent=True, subsample=1)\n",
      "Train error: 8.718106383687781e-07 Test error: 9.7838339737716e-07 \n",
      "\n",
      "Fitting: LGBMRegressor(boosting_type='gbdt', class_weight=None, colsample_bytree=1.0,\n",
      "       learning_rate=0.1, max_depth=5, min_child_samples=20,\n",
      "       min_child_weight=0.001, min_split_gain=0.0, n_estimators=350,\n",
      "       n_jobs=-1, num_leaves=31, objective=None, random_state=None,\n",
      "       reg_alpha=0.0, reg_lambda=10.0, silent=True, subsample=1.0,\n",
      "       subsample_for_bin=200000, subsample_freq=1)\n",
      "Train error: 8.207052447849649e-07 Test error: 9.681070271123806e-07 \n",
      "\n",
      "Fitting: LGBMRegressor(boosting_type='gbdt', class_weight=None, colsample_bytree=1.0,\n",
      "       learning_rate=0.1, max_depth=-1, min_child_samples=20,\n",
      "       min_child_weight=0.001, min_split_gain=0.0, n_estimators=700,\n",
      "       n_jobs=-1, num_leaves=31, objective=None, random_state=None,\n",
      "       reg_alpha=0.0, reg_lambda=0.0, silent=True, subsample=1.0,\n",
      "       subsample_for_bin=200000, subsample_freq=1)\n",
      "Train error: 6.378211415887767e-07 Test error: 9.733207685868272e-07 \n",
      "\n"
     ]
    }
   ],
   "source": [
    "enabled_vars = feats\n",
    "\n",
    "models = OrderedDict([\n",
    "                      ('xgboost', xgb.sklearn.XGBRegressor(n_estimators=700, n_jobs=-1)), \n",
    "                      ('lgboost_reg', lgb.sklearn.LGBMRegressor(n_estimators=350, n_jobs=-1, max_depth=5, reg_lambda=10.0)),\n",
    "                      ('lgboost', lgb.sklearn.LGBMRegressor(n_estimators=700))\n",
    "                    ])\n",
    "\n",
    "df_preds_train, df_preds_test, train_error, test_error = train_and_test_models(models, \n",
    "                                                         X_train.loc[:,enabled_vars], y_train, \n",
    "                                                         X_val.loc[:,enabled_vars], y_val, \n",
    "                                                         weights_train, weights_val)"
   ]
  },
  {
   "cell_type": "code",
   "execution_count": 114,
   "metadata": {},
   "outputs": [
    {
     "data": {
      "text/plain": [
       "9.550210152570293e-07"
      ]
     },
     "execution_count": 114,
     "metadata": {},
     "output_type": "execute_result"
    }
   ],
   "source": [
    "# Model stacking\n",
    "# Validation set\n",
    "preds = (df_preds_test.xgboost_preds_test + \n",
    "         df_preds_test.lgboost_preds_test +\n",
    "         df_preds_test.lgboost_reg_preds_test\n",
    "        )/3\n",
    "wMSE(preds=preds, y=y_val, weights=weights_val)"
   ]
  },
  {
   "cell_type": "code",
   "execution_count": 116,
   "metadata": {},
   "outputs": [
    {
     "data": {
      "text/html": [
       "<div>\n",
       "<style scoped>\n",
       "    .dataframe tbody tr th:only-of-type {\n",
       "        vertical-align: middle;\n",
       "    }\n",
       "\n",
       "    .dataframe tbody tr th {\n",
       "        vertical-align: top;\n",
       "    }\n",
       "\n",
       "    .dataframe thead th {\n",
       "        text-align: right;\n",
       "    }\n",
       "</style>\n",
       "<table border=\"1\" class=\"dataframe\">\n",
       "  <thead>\n",
       "    <tr style=\"text-align: right;\">\n",
       "      <th></th>\n",
       "      <th>xgb</th>\n",
       "      <th>lgb</th>\n",
       "      <th>lgbr</th>\n",
       "      <th>y</th>\n",
       "    </tr>\n",
       "  </thead>\n",
       "  <tbody>\n",
       "    <tr>\n",
       "      <th>0</th>\n",
       "      <td>0.000188</td>\n",
       "      <td>0.000273</td>\n",
       "      <td>0.000218</td>\n",
       "      <td>0.000226</td>\n",
       "    </tr>\n",
       "    <tr>\n",
       "      <th>1</th>\n",
       "      <td>-0.000008</td>\n",
       "      <td>-0.000080</td>\n",
       "      <td>-0.000097</td>\n",
       "      <td>-0.000061</td>\n",
       "    </tr>\n",
       "    <tr>\n",
       "      <th>2</th>\n",
       "      <td>0.000005</td>\n",
       "      <td>-0.000009</td>\n",
       "      <td>-0.000004</td>\n",
       "      <td>-0.000002</td>\n",
       "    </tr>\n",
       "    <tr>\n",
       "      <th>3</th>\n",
       "      <td>0.000040</td>\n",
       "      <td>0.000040</td>\n",
       "      <td>0.000036</td>\n",
       "      <td>0.000039</td>\n",
       "    </tr>\n",
       "    <tr>\n",
       "      <th>4</th>\n",
       "      <td>0.000499</td>\n",
       "      <td>0.000550</td>\n",
       "      <td>0.000519</td>\n",
       "      <td>0.000523</td>\n",
       "    </tr>\n",
       "  </tbody>\n",
       "</table>\n",
       "</div>"
      ],
      "text/plain": [
       "        xgb       lgb      lgbr         y\n",
       "0  0.000188  0.000273  0.000218  0.000226\n",
       "1 -0.000008 -0.000080 -0.000097 -0.000061\n",
       "2  0.000005 -0.000009 -0.000004 -0.000002\n",
       "3  0.000040  0.000040  0.000036  0.000039\n",
       "4  0.000499  0.000550  0.000519  0.000523"
      ]
     },
     "execution_count": 116,
     "metadata": {},
     "output_type": "execute_result"
    }
   ],
   "source": [
    "# Model stacking\n",
    "# Test set\n",
    "\n",
    "p1 = models['xgboost'].predict(X_test.loc[:, enabled_vars])\n",
    "p2 = models['lgboost'].predict(X_test.loc[:, enabled_vars])\n",
    "p3 = models['lgboost_reg'].predict(X_test.loc[:, enabled_vars])\n",
    "\n",
    "\n",
    "preds_test = pd.DataFrame(np.c_[p1,p2,p3], columns=['xgb','lgb', 'lgbr'], index=X_test.index)\n",
    "\n",
    "preds_test['y'] = preds_test.mean(axis=1)\n",
    "\n",
    "preds_test.head()"
   ]
  },
  {
   "cell_type": "code",
   "execution_count": 117,
   "metadata": {
    "collapsed": true
   },
   "outputs": [],
   "source": [
    "preds_test.y.to_csv('../data/output_11_lgb350reg_lgb700_xgb700_with_log_diff_as_feats_with_param_tuning.csv', index=True, header=True)"
   ]
  },
  {
   "cell_type": "markdown",
   "metadata": {},
   "source": [
    "# Train final model 2"
   ]
  },
  {
   "cell_type": "code",
   "execution_count": 129,
   "metadata": {},
   "outputs": [
    {
     "name": "stdout",
     "output_type": "stream",
     "text": [
      "Fitting: XGBRegressor(base_score=0.5, booster='gbtree', colsample_bylevel=1,\n",
      "       colsample_bytree=1, gamma=0, learning_rate=0.1, max_delta_step=0,\n",
      "       max_depth=3, min_child_weight=1, missing=None, n_estimators=700,\n",
      "       n_jobs=-1, nthread=None, objective='reg:linear', random_state=0,\n",
      "       reg_alpha=0, reg_lambda=1, scale_pos_weight=1, seed=None,\n",
      "       silent=True, subsample=1)\n",
      "Train error: 8.718106383687781e-07 Test error: 9.7838339737716e-07 \n",
      "\n",
      "Fitting: LGBMRegressor(boosting_type='gbdt', class_weight=None, colsample_bytree=1.0,\n",
      "       learning_rate=0.1, max_depth=5, min_child_samples=20,\n",
      "       min_child_weight=0.001, min_split_gain=0.0, n_estimators=350,\n",
      "       n_jobs=-1, num_leaves=31, objective=None, random_state=None,\n",
      "       reg_alpha=0.0, reg_lambda=10.0, silent=True, subsample=1.0,\n",
      "       subsample_for_bin=200000, subsample_freq=1)\n",
      "Train error: 8.207052447849712e-07 Test error: 9.681071738729553e-07 \n",
      "\n",
      "Fitting: LGBMRegressor(boosting_type='gbdt', class_weight=None, colsample_bytree=1.0,\n",
      "       learning_rate=0.1, max_depth=-1, min_child_samples=20,\n",
      "       min_child_weight=0.001, min_split_gain=0.0, n_estimators=700,\n",
      "       n_jobs=-1, num_leaves=31, objective=None, random_state=None,\n",
      "       reg_alpha=0.0, reg_lambda=0.0, silent=True, subsample=1.0,\n",
      "       subsample_for_bin=200000, subsample_freq=1)\n",
      "Train error: 6.37821141589061e-07 Test error: 9.733207685865955e-07 \n",
      "\n",
      "Fitting: XGBRegressor(base_score=0.5, booster='gbtree', colsample_bylevel=1,\n",
      "       colsample_bytree=1, gamma=0, grow_policy='lossguide',\n",
      "       learning_rate=0.1, max_delta_step=0, max_depth=5,\n",
      "       min_child_weight=1, missing=None, n_estimators=700, n_jobs=-1,\n",
      "       nthread=None, objective='reg:linear', random_state=0, reg_alpha=0,\n",
      "       reg_lambda=10.0, scale_pos_weight=1, seed=None, silent=True,\n",
      "       subsample=1, tree_method='hist')\n",
      "Train error: 8.314701647653596e-07 Test error: 9.790427422658719e-07 \n",
      "\n"
     ]
    }
   ],
   "source": [
    "enabled_vars = feats\n",
    "\n",
    "models = OrderedDict([\n",
    "                      ('xgboost', xgb.sklearn.XGBRegressor(n_estimators=700, n_jobs=-1)), \n",
    "                      ('lgboost_reg', lgb.sklearn.LGBMRegressor(n_estimators=350, n_jobs=-1, max_depth=5, reg_lambda=10.0)),\n",
    "                      ('lgboost', lgb.sklearn.LGBMRegressor(n_estimators=700)),\n",
    "                      ('xgboost_reg', xgb.sklearn.XGBRegressor(n_estimators=700, n_jobs=-1, reg_lambda=10.0, grow_policy='lossguide', tree_method='hist', max_depth=5)), \n",
    "                    ])\n",
    "\n",
    "df_preds_train, df_preds_test, train_error, test_error = train_and_test_models(models, \n",
    "                                                         X_train.loc[:,enabled_vars], y_train, \n",
    "                                                         X_val.loc[:,enabled_vars], y_val, \n",
    "                                                         weights_train, weights_val)"
   ]
  },
  {
   "cell_type": "code",
   "execution_count": 131,
   "metadata": {},
   "outputs": [
    {
     "data": {
      "text/plain": [
       "9.520322076910166e-07"
      ]
     },
     "execution_count": 131,
     "metadata": {},
     "output_type": "execute_result"
    }
   ],
   "source": [
    "# Model stacking\n",
    "# Validation set\n",
    "preds = (df_preds_test.xgboost_preds_test + \n",
    "         df_preds_test.lgboost_preds_test +\n",
    "         df_preds_test.xgboost_reg_preds_test +\n",
    "         df_preds_test.lgboost_reg_preds_test\n",
    "        )/4\n",
    "wMSE(preds=preds, y=y_val, weights=weights_val)"
   ]
  },
  {
   "cell_type": "code",
   "execution_count": 132,
   "metadata": {},
   "outputs": [
    {
     "data": {
      "text/html": [
       "<div>\n",
       "<style scoped>\n",
       "    .dataframe tbody tr th:only-of-type {\n",
       "        vertical-align: middle;\n",
       "    }\n",
       "\n",
       "    .dataframe tbody tr th {\n",
       "        vertical-align: top;\n",
       "    }\n",
       "\n",
       "    .dataframe thead th {\n",
       "        text-align: right;\n",
       "    }\n",
       "</style>\n",
       "<table border=\"1\" class=\"dataframe\">\n",
       "  <thead>\n",
       "    <tr style=\"text-align: right;\">\n",
       "      <th></th>\n",
       "      <th>xgb</th>\n",
       "      <th>lgb</th>\n",
       "      <th>lgbr</th>\n",
       "      <th>xgbr</th>\n",
       "      <th>y</th>\n",
       "    </tr>\n",
       "  </thead>\n",
       "  <tbody>\n",
       "    <tr>\n",
       "      <th>0</th>\n",
       "      <td>0.000188</td>\n",
       "      <td>0.000273</td>\n",
       "      <td>0.000218</td>\n",
       "      <td>0.000227</td>\n",
       "      <td>0.000226</td>\n",
       "    </tr>\n",
       "    <tr>\n",
       "      <th>1</th>\n",
       "      <td>-0.000008</td>\n",
       "      <td>-0.000080</td>\n",
       "      <td>-0.000097</td>\n",
       "      <td>-0.000239</td>\n",
       "      <td>-0.000106</td>\n",
       "    </tr>\n",
       "    <tr>\n",
       "      <th>2</th>\n",
       "      <td>0.000005</td>\n",
       "      <td>-0.000009</td>\n",
       "      <td>-0.000004</td>\n",
       "      <td>-0.000009</td>\n",
       "      <td>-0.000004</td>\n",
       "    </tr>\n",
       "    <tr>\n",
       "      <th>3</th>\n",
       "      <td>0.000040</td>\n",
       "      <td>0.000040</td>\n",
       "      <td>0.000036</td>\n",
       "      <td>0.000043</td>\n",
       "      <td>0.000040</td>\n",
       "    </tr>\n",
       "    <tr>\n",
       "      <th>4</th>\n",
       "      <td>0.000499</td>\n",
       "      <td>0.000550</td>\n",
       "      <td>0.000519</td>\n",
       "      <td>0.000506</td>\n",
       "      <td>0.000519</td>\n",
       "    </tr>\n",
       "  </tbody>\n",
       "</table>\n",
       "</div>"
      ],
      "text/plain": [
       "        xgb       lgb      lgbr      xgbr         y\n",
       "0  0.000188  0.000273  0.000218  0.000227  0.000226\n",
       "1 -0.000008 -0.000080 -0.000097 -0.000239 -0.000106\n",
       "2  0.000005 -0.000009 -0.000004 -0.000009 -0.000004\n",
       "3  0.000040  0.000040  0.000036  0.000043  0.000040\n",
       "4  0.000499  0.000550  0.000519  0.000506  0.000519"
      ]
     },
     "execution_count": 132,
     "metadata": {},
     "output_type": "execute_result"
    }
   ],
   "source": [
    "# Model stacking\n",
    "# Test set\n",
    "\n",
    "p1 = models['xgboost'].predict(X_test.loc[:, enabled_vars])\n",
    "p2 = models['lgboost'].predict(X_test.loc[:, enabled_vars])\n",
    "p3 = models['lgboost_reg'].predict(X_test.loc[:, enabled_vars])\n",
    "p4 = models['xgboost_reg'].predict(X_test.loc[:, enabled_vars])\n",
    "\n",
    "preds_test = pd.DataFrame(np.c_[p1,p2,p3,p4], columns=['xgb','lgb', 'lgbr', 'xgbr'], index=X_test.index)\n",
    "\n",
    "preds_test['y'] = preds_test.mean(axis=1)\n",
    "\n",
    "preds_test.head()"
   ]
  },
  {
   "cell_type": "code",
   "execution_count": 133,
   "metadata": {
    "collapsed": true
   },
   "outputs": [],
   "source": [
    "preds_test.y.to_csv('../data/output_12_lgb350reg_lgb700_xgb700_xgb700reg_with_log_diff_as_feats_with_param_tuning.csv', index=True, header=True)"
   ]
  },
  {
   "cell_type": "markdown",
   "metadata": {},
   "source": [
    "# Model stacking and apply to test set for submission"
   ]
  },
  {
   "cell_type": "code",
   "execution_count": 74,
   "metadata": {},
   "outputs": [
    {
     "data": {
      "text/plain": [
       "9.560562578348855e-07"
      ]
     },
     "execution_count": 74,
     "metadata": {},
     "output_type": "execute_result"
    }
   ],
   "source": [
    "# Model stacking\n",
    "# Validation set\n",
    "preds = (df_preds_test.xgboost_preds_test + df_preds_test.lgboost_preds_test)/2\n",
    "wMSE(preds=preds, y=y_val, weights=weights_val)"
   ]
  },
  {
   "cell_type": "markdown",
   "metadata": {},
   "source": [
    "Averaging the two models reduced the validation set error considerably"
   ]
  },
  {
   "cell_type": "code",
   "execution_count": 75,
   "metadata": {},
   "outputs": [
    {
     "data": {
      "text/html": [
       "<div>\n",
       "<style scoped>\n",
       "    .dataframe tbody tr th:only-of-type {\n",
       "        vertical-align: middle;\n",
       "    }\n",
       "\n",
       "    .dataframe tbody tr th {\n",
       "        vertical-align: top;\n",
       "    }\n",
       "\n",
       "    .dataframe thead th {\n",
       "        text-align: right;\n",
       "    }\n",
       "</style>\n",
       "<table border=\"1\" class=\"dataframe\">\n",
       "  <thead>\n",
       "    <tr style=\"text-align: right;\">\n",
       "      <th></th>\n",
       "      <th>xgb</th>\n",
       "      <th>lgb</th>\n",
       "      <th>y</th>\n",
       "    </tr>\n",
       "  </thead>\n",
       "  <tbody>\n",
       "    <tr>\n",
       "      <th>0</th>\n",
       "      <td>0.000188</td>\n",
       "      <td>0.000273</td>\n",
       "      <td>0.000230</td>\n",
       "    </tr>\n",
       "    <tr>\n",
       "      <th>1</th>\n",
       "      <td>-0.000008</td>\n",
       "      <td>-0.000080</td>\n",
       "      <td>-0.000044</td>\n",
       "    </tr>\n",
       "    <tr>\n",
       "      <th>2</th>\n",
       "      <td>0.000005</td>\n",
       "      <td>-0.000009</td>\n",
       "      <td>-0.000002</td>\n",
       "    </tr>\n",
       "    <tr>\n",
       "      <th>3</th>\n",
       "      <td>0.000040</td>\n",
       "      <td>0.000040</td>\n",
       "      <td>0.000040</td>\n",
       "    </tr>\n",
       "    <tr>\n",
       "      <th>4</th>\n",
       "      <td>0.000499</td>\n",
       "      <td>0.000550</td>\n",
       "      <td>0.000525</td>\n",
       "    </tr>\n",
       "  </tbody>\n",
       "</table>\n",
       "</div>"
      ],
      "text/plain": [
       "        xgb       lgb         y\n",
       "0  0.000188  0.000273  0.000230\n",
       "1 -0.000008 -0.000080 -0.000044\n",
       "2  0.000005 -0.000009 -0.000002\n",
       "3  0.000040  0.000040  0.000040\n",
       "4  0.000499  0.000550  0.000525"
      ]
     },
     "execution_count": 75,
     "metadata": {},
     "output_type": "execute_result"
    }
   ],
   "source": [
    "# Model stacking\n",
    "# Test set\n",
    "\n",
    "p1 = models['xgboost'].predict(X_test.loc[:, enabled_vars])\n",
    "p2 = models['lgboost'].predict(X_test.loc[:, enabled_vars])\n",
    "\n",
    "preds_test = pd.DataFrame(np.c_[p1,p2], columns=['xgb','lgb'], index=X_test.index)\n",
    "\n",
    "preds_test['y'] = preds_test.mean(axis=1)\n",
    "\n",
    "preds_test.head()"
   ]
  },
  {
   "cell_type": "code",
   "execution_count": 76,
   "metadata": {
    "collapsed": true
   },
   "outputs": [],
   "source": [
    "preds_test.y.to_csv('../data/output_10_lgb700_xgb700_with_log_diff_as_feats.csv', index=True, header=True)"
   ]
  }
 ],
 "metadata": {
  "kernelspec": {
   "display_name": "py36",
   "language": "python",
   "name": "py36"
  },
  "language_info": {
   "codemirror_mode": {
    "name": "ipython",
    "version": 3
   },
   "file_extension": ".py",
   "mimetype": "text/x-python",
   "name": "python",
   "nbconvert_exporter": "python",
   "pygments_lexer": "ipython3",
   "version": "3.6.4"
  }
 },
 "nbformat": 4,
 "nbformat_minor": 2
}
