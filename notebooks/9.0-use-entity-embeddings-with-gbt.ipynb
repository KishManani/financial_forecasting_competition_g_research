{
 "cells": [
  {
   "cell_type": "code",
   "execution_count": 1,
   "metadata": {},
   "outputs": [
    {
     "name": "stderr",
     "output_type": "stream",
     "text": [
      "/Users/km1308/anaconda/envs/py36/lib/python3.6/site-packages/sklearn/cross_validation.py:41: DeprecationWarning: This module was deprecated in version 0.18 in favor of the model_selection module into which all the refactored classes and functions are moved. Also note that the interface of the new CV iterators are different from that of this module. This module will be removed in 0.20.\n",
      "  \"This module will be removed in 0.20.\", DeprecationWarning)\n"
     ]
    }
   ],
   "source": [
    "%matplotlib inline\n",
    "import numpy as np\n",
    "import pandas as pd\n",
    "import matplotlib.pyplot as plt\n",
    "import seaborn as sns\n",
    "from collections import OrderedDict\n",
    "sns.set_context('poster')\n",
    "\n",
    "from sklearn.preprocessing import MinMaxScaler, StandardScaler\n",
    "from sklearn.ensemble import RandomForestRegressor, GradientBoostingRegressor\n",
    "from sklearn.linear_model import Ridge, Lasso, LinearRegression\n",
    "from sklearn.model_selection import train_test_split\n",
    "from sklearn.cross_validation import cross_val_score\n",
    "from sklearn.metrics import make_scorer\n",
    "from sklearn.externals import joblib\n",
    "import xgboost as xgb\n",
    "import lightgbm as lgb\n",
    "\n",
    "# Importing from my own modules\n",
    "import sys\n",
    "sys.path.append('../financial_forecasting/')\n",
    "from utils import load_data, wMSE, train_and_test_models\n",
    "from preprocessing import Imputer, LogTransformer, MeanEncoder, TreeBinner, transform_to_embedding_vec"
   ]
  },
  {
   "cell_type": "markdown",
   "metadata": {},
   "source": [
    "# Load data"
   ]
  },
  {
   "cell_type": "code",
   "execution_count": 2,
   "metadata": {
    "collapsed": true
   },
   "outputs": [],
   "source": [
    "X_train = pd.read_csv('../data/preprocessed/train.csv')\n",
    "X_val = pd.read_csv('../data/preprocessed/validation.csv')\n",
    "X_test = pd.read_csv('../data/preprocessed/test.csv')\n",
    "\n",
    "weights_train = pd.read_csv('../data/preprocessed/train_weights.csv', squeeze=True)\n",
    "weights_val = pd.read_csv('../data/preprocessed/validation_weights.csv', squeeze=True)\n",
    "\n",
    "y_train = pd.read_csv('../data/preprocessed/train_target.csv', squeeze=True)\n",
    "y_val = pd.read_csv('../data/preprocessed/validation_target.csv', squeeze=True)"
   ]
  },
  {
   "cell_type": "markdown",
   "metadata": {},
   "source": [
    "# Load embeddings"
   ]
  },
  {
   "cell_type": "code",
   "execution_count": 3,
   "metadata": {
    "collapsed": true
   },
   "outputs": [],
   "source": [
    "emb_file = '../data/embeddings.pkl'\n",
    "embedding_matrix = joblib.load(emb_file)"
   ]
  },
  {
   "cell_type": "code",
   "execution_count": 4,
   "metadata": {
    "collapsed": true
   },
   "outputs": [],
   "source": [
    "df_embeddings_train = transform_to_embedding_vec(X_train.Stock, embedding_matrix)\n",
    "df_embeddings_val = transform_to_embedding_vec(X_val.Stock, embedding_matrix)\n",
    "df_embeddings_test = transform_to_embedding_vec(X_test.Stock, embedding_matrix)"
   ]
  },
  {
   "cell_type": "code",
   "execution_count": 5,
   "metadata": {
    "collapsed": true
   },
   "outputs": [],
   "source": [
    "X_train = pd.concat([X_train, df_embeddings_train], axis=1)\n",
    "X_val = pd.concat([X_val, df_embeddings_val], axis=1)\n",
    "X_test = pd.concat([X_test, df_embeddings_test], axis=1)"
   ]
  },
  {
   "cell_type": "markdown",
   "metadata": {},
   "source": [
    "# Train and evaluate models using embeddings"
   ]
  },
  {
   "cell_type": "code",
   "execution_count": 9,
   "metadata": {
    "collapsed": true
   },
   "outputs": [],
   "source": [
    "embedding_feats = list(df_embeddings_train.columns)"
   ]
  },
  {
   "cell_type": "code",
   "execution_count": 10,
   "metadata": {
    "collapsed": true
   },
   "outputs": [],
   "source": [
    "feats_no_embeddings = ['Day', 'Market', 'Market_mean_encoded', 'Stock', 'Stock_mean_encoded',\n",
    "                       'x0', 'x0_log10', 'x0_log10_diff', 'x1_log10', 'x1_log10_diff',\n",
    "                       'x2_log10', 'x2_log10_diff', 'x3A', 'x3A_log10', 'x3A_log10_diff',\n",
    "                       'x3B', 'x3B_binned', 'x3B_log10', 'x3C', 'x3C_log10', 'x3D',\n",
    "                       'x3D_log10', 'x3D_log10_diff', 'x3E', 'x3E_log10', 'x3E_log10_diff',\n",
    "                       'x4', 'x4_binned', 'x4_log10_diff', 'x5', 'x5_binned', 'x5_log10',\n",
    "                       'x5_log10_diff', 'x6', 'x6_binned', 'x6_log10_diff']\n",
    "\n",
    "feats_with_embeddings = feats_no_embeddings + embedding_feats"
   ]
  },
  {
   "cell_type": "code",
   "execution_count": 8,
   "metadata": {},
   "outputs": [
    {
     "name": "stdout",
     "output_type": "stream",
     "text": [
      "Fitting: LGBMRegressor(boosting_type='gbdt', class_weight=None, colsample_bytree=1.0,\n",
      "       learning_rate=0.1, max_depth=5, min_child_samples=20,\n",
      "       min_child_weight=0.001, min_split_gain=0.0, n_estimators=350,\n",
      "       n_jobs=-1, num_leaves=31, objective=None, random_state=None,\n",
      "       reg_alpha=0.0, reg_lambda=10.0, silent=True, subsample=1.0,\n",
      "       subsample_for_bin=200000, subsample_freq=1)\n",
      "Train error: 8.207052447849935e-07 Test error: 9.681071629000013e-07 \n",
      "\n",
      "Fitting: LGBMRegressor(boosting_type='gbdt', class_weight=None, colsample_bytree=1.0,\n",
      "       learning_rate=0.1, max_depth=-1, min_child_samples=20,\n",
      "       min_child_weight=0.001, min_split_gain=0.0, n_estimators=700,\n",
      "       n_jobs=-1, num_leaves=31, objective=None, random_state=None,\n",
      "       reg_alpha=0.0, reg_lambda=0.0, silent=True, subsample=1.0,\n",
      "       subsample_for_bin=200000, subsample_freq=1)\n",
      "Train error: 6.37821141588693e-07 Test error: 9.733154677963492e-07 \n",
      "\n"
     ]
    }
   ],
   "source": [
    "enabled_vars = feats_no_embeddings\n",
    "\n",
    "models = OrderedDict([\n",
    "                      ('lgboost_reg', lgb.sklearn.LGBMRegressor(n_estimators=350, n_jobs=-1, max_depth=5, reg_lambda=10.0)),\n",
    "                      ('lgboost', lgb.sklearn.LGBMRegressor(n_estimators=700)),\n",
    "                    ])\n",
    "\n",
    "df_preds_train, df_preds_test, train_error, test_error = train_and_test_models(models, \n",
    "                                                         X_train.loc[:,enabled_vars], y_train, \n",
    "                                                         X_val.loc[:,enabled_vars], y_val, \n",
    "                                                         weights_train, weights_val)"
   ]
  },
  {
   "cell_type": "code",
   "execution_count": 9,
   "metadata": {},
   "outputs": [
    {
     "name": "stdout",
     "output_type": "stream",
     "text": [
      "Fitting: LGBMRegressor(boosting_type='gbdt', class_weight=None, colsample_bytree=1.0,\n",
      "       learning_rate=0.1, max_depth=5, min_child_samples=20,\n",
      "       min_child_weight=0.001, min_split_gain=0.0, n_estimators=350,\n",
      "       n_jobs=-1, num_leaves=31, objective=None, random_state=None,\n",
      "       reg_alpha=0.0, reg_lambda=10.0, silent=True, subsample=1.0,\n",
      "       subsample_for_bin=200000, subsample_freq=1)\n",
      "Train error: 7.996524308749735e-07 Test error: 9.608319998945923e-07 \n",
      "\n",
      "Fitting: LGBMRegressor(boosting_type='gbdt', class_weight=None, colsample_bytree=1.0,\n",
      "       learning_rate=0.1, max_depth=-1, min_child_samples=20,\n",
      "       min_child_weight=0.001, min_split_gain=0.0, n_estimators=700,\n",
      "       n_jobs=-1, num_leaves=31, objective=None, random_state=None,\n",
      "       reg_alpha=0.0, reg_lambda=0.0, silent=True, subsample=1.0,\n",
      "       subsample_for_bin=200000, subsample_freq=1)\n",
      "Train error: 6.16838249670288e-07 Test error: 9.630233338686736e-07 \n",
      "\n"
     ]
    }
   ],
   "source": [
    "enabled_vars = feats_with_embeddings\n",
    "\n",
    "models = OrderedDict([\n",
    "                      ('lgboost_reg', lgb.sklearn.LGBMRegressor(n_estimators=350, n_jobs=-1, max_depth=5, reg_lambda=10.0)),\n",
    "                      ('lgboost', lgb.sklearn.LGBMRegressor(n_estimators=700)),\n",
    "                    ])\n",
    "\n",
    "df_preds_train, df_preds_test, train_error, test_error = train_and_test_models(models, \n",
    "                                                         X_train.loc[:,enabled_vars], y_train, \n",
    "                                                         X_val.loc[:,enabled_vars], y_val, \n",
    "                                                         weights_train, weights_val)"
   ]
  },
  {
   "cell_type": "markdown",
   "metadata": {},
   "source": [
    "Embeddings have definitely helped compared to using no embeddings. "
   ]
  },
  {
   "cell_type": "markdown",
   "metadata": {},
   "source": [
    "# Train final model"
   ]
  },
  {
   "cell_type": "code",
   "execution_count": 10,
   "metadata": {},
   "outputs": [
    {
     "name": "stdout",
     "output_type": "stream",
     "text": [
      "Fitting: XGBRegressor(base_score=0.5, booster='gbtree', colsample_bylevel=1,\n",
      "       colsample_bytree=1, gamma=0, learning_rate=0.1, max_delta_step=0,\n",
      "       max_depth=3, min_child_weight=1, missing=None, n_estimators=700,\n",
      "       n_jobs=-1, nthread=None, objective='reg:linear', random_state=0,\n",
      "       reg_alpha=0, reg_lambda=1, scale_pos_weight=1, seed=None,\n",
      "       silent=True, subsample=1)\n",
      "Train error: 8.743937206761713e-07 Test error: 9.807254616703507e-07 \n",
      "\n",
      "Fitting: LGBMRegressor(boosting_type='gbdt', class_weight=None, colsample_bytree=1.0,\n",
      "       learning_rate=0.1, max_depth=5, min_child_samples=20,\n",
      "       min_child_weight=0.001, min_split_gain=0.0, n_estimators=350,\n",
      "       n_jobs=-1, num_leaves=31, objective=None, random_state=None,\n",
      "       reg_alpha=0.0, reg_lambda=10.0, silent=True, subsample=1.0,\n",
      "       subsample_for_bin=200000, subsample_freq=1)\n",
      "Train error: 7.996524308749755e-07 Test error: 9.608319728597496e-07 \n",
      "\n",
      "Fitting: LGBMRegressor(boosting_type='gbdt', class_weight=None, colsample_bytree=1.0,\n",
      "       learning_rate=0.1, max_depth=-1, min_child_samples=20,\n",
      "       min_child_weight=0.001, min_split_gain=0.0, n_estimators=700,\n",
      "       n_jobs=-1, num_leaves=31, objective=None, random_state=None,\n",
      "       reg_alpha=0.0, reg_lambda=0.0, silent=True, subsample=1.0,\n",
      "       subsample_for_bin=200000, subsample_freq=1)\n",
      "Train error: 6.16838249670319e-07 Test error: 9.630169987728491e-07 \n",
      "\n",
      "Fitting: XGBRegressor(base_score=0.5, booster='gbtree', colsample_bylevel=1,\n",
      "       colsample_bytree=1, gamma=0, grow_policy='lossguide',\n",
      "       learning_rate=0.1, max_delta_step=0, max_depth=5,\n",
      "       min_child_weight=1, missing=None, n_estimators=700, n_jobs=-1,\n",
      "       nthread=None, objective='reg:linear', random_state=0, reg_alpha=0,\n",
      "       reg_lambda=10.0, scale_pos_weight=1, seed=None, silent=True,\n",
      "       subsample=1, tree_method='hist')\n",
      "Train error: 7.805497924267044e-07 Test error: 9.745153254672443e-07 \n",
      "\n"
     ]
    }
   ],
   "source": [
    "enabled_vars = feats_with_embeddings\n",
    "\n",
    "models = OrderedDict([\n",
    "                      ('xgboost', xgb.sklearn.XGBRegressor(n_estimators=700, n_jobs=-1)), \n",
    "                      ('lgboost_reg', lgb.sklearn.LGBMRegressor(n_estimators=350, n_jobs=-1, max_depth=5, reg_lambda=10.0)),\n",
    "                      ('lgboost', lgb.sklearn.LGBMRegressor(n_estimators=700)),\n",
    "                      ('xgboost_reg', xgb.sklearn.XGBRegressor(n_estimators=700, n_jobs=-1, reg_lambda=10.0, grow_policy='lossguide', tree_method='hist', max_depth=5)), \n",
    "                    ])\n",
    "\n",
    "df_preds_train, df_preds_test, train_error, test_error = train_and_test_models(models, \n",
    "                                                         X_train.loc[:,enabled_vars], y_train, \n",
    "                                                         X_val.loc[:,enabled_vars], y_val, \n",
    "                                                         weights_train, weights_val)"
   ]
  },
  {
   "cell_type": "code",
   "execution_count": 11,
   "metadata": {},
   "outputs": [
    {
     "data": {
      "text/plain": [
       "9.465412986335482e-07"
      ]
     },
     "execution_count": 11,
     "metadata": {},
     "output_type": "execute_result"
    }
   ],
   "source": [
    "# Model stacking\n",
    "# Validation set\n",
    "preds = (df_preds_test.xgboost_preds_test + \n",
    "         df_preds_test.lgboost_preds_test +\n",
    "         df_preds_test.xgboost_reg_preds_test +\n",
    "         df_preds_test.lgboost_reg_preds_test\n",
    "        )/4\n",
    "wMSE(preds=preds, y=y_val, weights=weights_val)"
   ]
  },
  {
   "cell_type": "markdown",
   "metadata": {},
   "source": [
    "Score on validation set with entity embeddings is better."
   ]
  },
  {
   "cell_type": "code",
   "execution_count": 12,
   "metadata": {},
   "outputs": [
    {
     "data": {
      "text/html": [
       "<div>\n",
       "<style scoped>\n",
       "    .dataframe tbody tr th:only-of-type {\n",
       "        vertical-align: middle;\n",
       "    }\n",
       "\n",
       "    .dataframe tbody tr th {\n",
       "        vertical-align: top;\n",
       "    }\n",
       "\n",
       "    .dataframe thead th {\n",
       "        text-align: right;\n",
       "    }\n",
       "</style>\n",
       "<table border=\"1\" class=\"dataframe\">\n",
       "  <thead>\n",
       "    <tr style=\"text-align: right;\">\n",
       "      <th></th>\n",
       "      <th>xgb</th>\n",
       "      <th>lgb</th>\n",
       "      <th>lgbr</th>\n",
       "      <th>xgbr</th>\n",
       "      <th>y</th>\n",
       "    </tr>\n",
       "  </thead>\n",
       "  <tbody>\n",
       "    <tr>\n",
       "      <th>0</th>\n",
       "      <td>0.000182</td>\n",
       "      <td>3.190553e-04</td>\n",
       "      <td>1.898591e-04</td>\n",
       "      <td>0.000291</td>\n",
       "      <td>0.000245</td>\n",
       "    </tr>\n",
       "    <tr>\n",
       "      <th>1</th>\n",
       "      <td>0.000127</td>\n",
       "      <td>-1.754083e-04</td>\n",
       "      <td>-2.010227e-05</td>\n",
       "      <td>-0.000077</td>\n",
       "      <td>-0.000036</td>\n",
       "    </tr>\n",
       "    <tr>\n",
       "      <th>2</th>\n",
       "      <td>0.000008</td>\n",
       "      <td>7.171223e-07</td>\n",
       "      <td>7.538494e-09</td>\n",
       "      <td>-0.000005</td>\n",
       "      <td>0.000001</td>\n",
       "    </tr>\n",
       "    <tr>\n",
       "      <th>3</th>\n",
       "      <td>0.000046</td>\n",
       "      <td>3.947058e-05</td>\n",
       "      <td>3.604451e-05</td>\n",
       "      <td>0.000039</td>\n",
       "      <td>0.000040</td>\n",
       "    </tr>\n",
       "    <tr>\n",
       "      <th>4</th>\n",
       "      <td>0.000478</td>\n",
       "      <td>5.573888e-04</td>\n",
       "      <td>4.676852e-04</td>\n",
       "      <td>0.000532</td>\n",
       "      <td>0.000509</td>\n",
       "    </tr>\n",
       "  </tbody>\n",
       "</table>\n",
       "</div>"
      ],
      "text/plain": [
       "        xgb           lgb          lgbr      xgbr         y\n",
       "0  0.000182  3.190553e-04  1.898591e-04  0.000291  0.000245\n",
       "1  0.000127 -1.754083e-04 -2.010227e-05 -0.000077 -0.000036\n",
       "2  0.000008  7.171223e-07  7.538494e-09 -0.000005  0.000001\n",
       "3  0.000046  3.947058e-05  3.604451e-05  0.000039  0.000040\n",
       "4  0.000478  5.573888e-04  4.676852e-04  0.000532  0.000509"
      ]
     },
     "execution_count": 12,
     "metadata": {},
     "output_type": "execute_result"
    }
   ],
   "source": [
    "# Model stacking\n",
    "# Test set\n",
    "p1 = models['xgboost'].predict(X_test.loc[:, enabled_vars])\n",
    "p2 = models['lgboost'].predict(X_test.loc[:, enabled_vars])\n",
    "p3 = models['lgboost_reg'].predict(X_test.loc[:, enabled_vars])\n",
    "p4 = models['xgboost_reg'].predict(X_test.loc[:, enabled_vars])\n",
    "\n",
    "preds_test = pd.DataFrame(np.c_[p1,p2,p3,p4], columns=['xgb','lgb', 'lgbr', 'xgbr'], index=X_test.index)\n",
    "\n",
    "preds_test['y'] = preds_test.mean(axis=1)\n",
    "\n",
    "preds_test.head()"
   ]
  },
  {
   "cell_type": "code",
   "execution_count": 34,
   "metadata": {
    "collapsed": true
   },
   "outputs": [],
   "source": [
    "preds_test.y.to_csv('../data/output_13_lgb350reg_lgb700_xgb700_xgb700reg_with_log_diff_as_feats_with_param_tuning_entity_embeddings.csv', index=True, header=True)"
   ]
  },
  {
   "cell_type": "markdown",
   "metadata": {},
   "source": [
    "# Train final model with all the data"
   ]
  },
  {
   "cell_type": "code",
   "execution_count": 6,
   "metadata": {
    "collapsed": true
   },
   "outputs": [],
   "source": [
    "X_train = pd.concat([X_train, X_val])\n",
    "y_train = pd.concat([y_train, y_val])\n",
    "weights_train = pd.concat([weights_train, weights_val])"
   ]
  },
  {
   "cell_type": "code",
   "execution_count": 7,
   "metadata": {
    "collapsed": true
   },
   "outputs": [],
   "source": [
    "X_train.reset_index(drop=True, inplace=True)\n",
    "y_train.reset_index(drop=True, inplace=True)\n",
    "weights_train.reset_index(drop=True, inplace=True)"
   ]
  },
  {
   "cell_type": "code",
   "execution_count": 11,
   "metadata": {},
   "outputs": [
    {
     "name": "stdout",
     "output_type": "stream",
     "text": [
      "Fitting: LGBMRegressor(boosting_type='gbdt', class_weight=None, colsample_bytree=1.0,\n",
      "       learning_rate=0.1, max_depth=5, min_child_samples=20,\n",
      "       min_child_weight=0.001, min_split_gain=0.0, n_estimators=350,\n",
      "       n_jobs=-1, num_leaves=31, objective=None, random_state=None,\n",
      "       reg_alpha=0.0, reg_lambda=10.0, silent=True, subsample=1.0,\n",
      "       subsample_for_bin=200000, subsample_freq=1)\n",
      "Train error: 8.175027528219318e-07 Test error: 7.997841743201003e-07 \n",
      "\n",
      "Fitting: LGBMRegressor(boosting_type='gbdt', class_weight=None, colsample_bytree=1.0,\n",
      "       learning_rate=0.1, max_depth=-1, min_child_samples=20,\n",
      "       min_child_weight=0.001, min_split_gain=0.0, n_estimators=700,\n",
      "       n_jobs=-1, num_leaves=31, objective=None, random_state=None,\n",
      "       reg_alpha=0.0, reg_lambda=0.0, silent=True, subsample=1.0,\n",
      "       subsample_for_bin=200000, subsample_freq=1)\n",
      "Train error: 6.5707960057007e-07 Test error: 6.425630901106511e-07 \n",
      "\n",
      "Fitting: XGBRegressor(base_score=0.5, booster='gbtree', colsample_bylevel=1,\n",
      "       colsample_bytree=1, gamma=0, grow_policy='lossguide',\n",
      "       learning_rate=0.1, max_delta_step=0, max_depth=5,\n",
      "       min_child_weight=1, missing=None, n_estimators=700, n_jobs=-1,\n",
      "       nthread=None, objective='reg:linear', random_state=0, reg_alpha=0,\n",
      "       reg_lambda=10.0, scale_pos_weight=1, seed=None, silent=True,\n",
      "       subsample=1, tree_method='hist')\n",
      "Train error: 8.020888126309146e-07 Test error: 7.822196934042708e-07 \n",
      "\n",
      "Fitting: XGBRegressor(base_score=0.5, booster='gbtree', colsample_bylevel=1,\n",
      "       colsample_bytree=1, gamma=0, learning_rate=0.1, max_delta_step=0,\n",
      "       max_depth=3, min_child_weight=1, missing=None, n_estimators=700,\n",
      "       n_jobs=-1, nthread=None, objective='reg:linear', random_state=0,\n",
      "       reg_alpha=0, reg_lambda=1, scale_pos_weight=1, seed=None,\n",
      "       silent=True, subsample=1)\n",
      "Train error: 8.823759790748353e-07 Test error: 8.571281523870176e-07 \n",
      "\n"
     ]
    }
   ],
   "source": [
    "enabled_vars = feats_with_embeddings\n",
    "\n",
    "models = OrderedDict([\n",
    "                      ('lgboost_reg', lgb.sklearn.LGBMRegressor(n_estimators=350, n_jobs=-1, max_depth=5, reg_lambda=10.0)),\n",
    "                      ('lgboost', lgb.sklearn.LGBMRegressor(n_estimators=700)),\n",
    "                      ('xgboost_reg', xgb.sklearn.XGBRegressor(n_estimators=700, n_jobs=-1, reg_lambda=10.0, grow_policy='lossguide', tree_method='hist', max_depth=5)), \n",
    "                      ('xgboost', xgb.sklearn.XGBRegressor(n_estimators=700, n_jobs=-1)),\n",
    "                    ])\n",
    "\n",
    "df_preds_train, df_preds_test, train_error, test_error = train_and_test_models(models, \n",
    "                                                         X_train.loc[:,enabled_vars], y_train, \n",
    "                                                         X_val.loc[:,enabled_vars], y_val, \n",
    "                                                         weights_train, weights_val)"
   ]
  },
  {
   "cell_type": "code",
   "execution_count": 15,
   "metadata": {},
   "outputs": [
    {
     "name": "stdout",
     "output_type": "stream",
     "text": [
      "Fitting: XGBRegressor(base_score=0.5, booster='gbtree', colsample_bylevel=1,\n",
      "       colsample_bytree=1, gamma=0, learning_rate=0.1, max_delta_step=0,\n",
      "       max_depth=3, min_child_weight=1, missing=None, n_estimators=700,\n",
      "       n_jobs=-1, nthread=None, objective='reg:linear', random_state=0,\n",
      "       reg_alpha=0, reg_lambda=1, scale_pos_weight=1, seed=None,\n",
      "       silent=True, subsample=1)\n",
      "Train error: 8.82849457463085e-07 Test error: 8.598960994759067e-07 \n",
      "\n",
      "Fitting: LGBMRegressor(boosting_type='gbdt', class_weight=None, colsample_bytree=1.0,\n",
      "       learning_rate=0.1, max_depth=5, min_child_samples=20,\n",
      "       min_child_weight=0.001, min_split_gain=0.0, n_estimators=350,\n",
      "       n_jobs=-1, num_leaves=31, objective=None, random_state=None,\n",
      "       reg_alpha=0.0, reg_lambda=10.0, silent=True, subsample=1.0,\n",
      "       subsample_for_bin=200000, subsample_freq=1)\n",
      "Train error: 8.224612228888496e-07 Test error: 8.045181874572624e-07 \n",
      "\n",
      "Fitting: LGBMRegressor(boosting_type='gbdt', class_weight=None, colsample_bytree=1.0,\n",
      "       learning_rate=0.1, max_depth=-1, min_child_samples=20,\n",
      "       min_child_weight=0.001, min_split_gain=0.0, n_estimators=700,\n",
      "       n_jobs=-1, num_leaves=31, objective=None, random_state=None,\n",
      "       reg_alpha=0.0, reg_lambda=0.0, silent=True, subsample=1.0,\n",
      "       subsample_for_bin=200000, subsample_freq=1)\n",
      "Train error: 6.586677758657306e-07 Test error: 6.430940082795332e-07 \n",
      "\n",
      "Fitting: XGBRegressor(base_score=0.5, booster='gbtree', colsample_bylevel=1,\n",
      "       colsample_bytree=1, gamma=0, grow_policy='lossguide',\n",
      "       learning_rate=0.1, max_delta_step=0, max_depth=5,\n",
      "       min_child_weight=1, missing=None, n_estimators=700, n_jobs=-1,\n",
      "       nthread=None, objective='reg:linear', random_state=0, reg_alpha=0,\n",
      "       reg_lambda=10.0, scale_pos_weight=1, seed=None, silent=True,\n",
      "       subsample=1, tree_method='hist')\n",
      "Train error: 8.035313477895798e-07 Test error: 7.820174431000828e-07 \n",
      "\n"
     ]
    }
   ],
   "source": [
    "enabled_vars = feats_with_embeddings\n",
    "\n",
    "models = OrderedDict([\n",
    "                      ('xgboost', xgb.sklearn.XGBRegressor(n_estimators=700, n_jobs=-1)), \n",
    "                      ('lgboost_reg', lgb.sklearn.LGBMRegressor(n_estimators=350, n_jobs=-1, max_depth=5, reg_lambda=10.0)),\n",
    "                      ('lgboost', lgb.sklearn.LGBMRegressor(n_estimators=700)),\n",
    "                      ('xgboost_reg', xgb.sklearn.XGBRegressor(n_estimators=700, n_jobs=-1, reg_lambda=10.0, grow_policy='lossguide', tree_method='hist', max_depth=5)), \n",
    "                    ])\n",
    "\n",
    "df_preds_train, df_preds_test, train_error, test_error = train_and_test_models(models, \n",
    "                                                         X_train.loc[:,enabled_vars], y_train, \n",
    "                                                         X_val.loc[:,enabled_vars], y_val, \n",
    "                                                         weights_train, weights_val)"
   ]
  },
  {
   "cell_type": "code",
   "execution_count": 13,
   "metadata": {},
   "outputs": [
    {
     "data": {
      "text/plain": [
       "7.492324457561699e-07"
      ]
     },
     "execution_count": 13,
     "metadata": {},
     "output_type": "execute_result"
    }
   ],
   "source": [
    "# Model stacking\n",
    "# Validation set\n",
    "preds = (df_preds_test.xgboost_preds_test + \n",
    "         df_preds_test.lgboost_preds_test +\n",
    "         df_preds_test.xgboost_reg_preds_test +\n",
    "         df_preds_test.lgboost_reg_preds_test\n",
    "        )/4\n",
    "wMSE(preds=preds, y=y_val, weights=weights_val)"
   ]
  },
  {
   "cell_type": "code",
   "execution_count": 14,
   "metadata": {},
   "outputs": [
    {
     "data": {
      "text/html": [
       "<div>\n",
       "<style scoped>\n",
       "    .dataframe tbody tr th:only-of-type {\n",
       "        vertical-align: middle;\n",
       "    }\n",
       "\n",
       "    .dataframe tbody tr th {\n",
       "        vertical-align: top;\n",
       "    }\n",
       "\n",
       "    .dataframe thead th {\n",
       "        text-align: right;\n",
       "    }\n",
       "</style>\n",
       "<table border=\"1\" class=\"dataframe\">\n",
       "  <thead>\n",
       "    <tr style=\"text-align: right;\">\n",
       "      <th></th>\n",
       "      <th>xgb</th>\n",
       "      <th>lgb</th>\n",
       "      <th>lgbr</th>\n",
       "      <th>xgbr</th>\n",
       "      <th>y</th>\n",
       "    </tr>\n",
       "  </thead>\n",
       "  <tbody>\n",
       "    <tr>\n",
       "      <th>0</th>\n",
       "      <td>0.000221</td>\n",
       "      <td>0.000265</td>\n",
       "      <td>2.229333e-04</td>\n",
       "      <td>0.000232</td>\n",
       "      <td>0.000235</td>\n",
       "    </tr>\n",
       "    <tr>\n",
       "      <th>1</th>\n",
       "      <td>0.000200</td>\n",
       "      <td>-0.000314</td>\n",
       "      <td>-1.486095e-04</td>\n",
       "      <td>-0.000325</td>\n",
       "      <td>-0.000147</td>\n",
       "    </tr>\n",
       "    <tr>\n",
       "      <th>2</th>\n",
       "      <td>0.000009</td>\n",
       "      <td>0.000003</td>\n",
       "      <td>1.557063e-07</td>\n",
       "      <td>-0.000004</td>\n",
       "      <td>0.000002</td>\n",
       "    </tr>\n",
       "    <tr>\n",
       "      <th>3</th>\n",
       "      <td>0.000041</td>\n",
       "      <td>0.000040</td>\n",
       "      <td>3.327696e-05</td>\n",
       "      <td>0.000030</td>\n",
       "      <td>0.000036</td>\n",
       "    </tr>\n",
       "    <tr>\n",
       "      <th>4</th>\n",
       "      <td>0.000530</td>\n",
       "      <td>0.000519</td>\n",
       "      <td>5.088877e-04</td>\n",
       "      <td>0.000511</td>\n",
       "      <td>0.000517</td>\n",
       "    </tr>\n",
       "  </tbody>\n",
       "</table>\n",
       "</div>"
      ],
      "text/plain": [
       "        xgb       lgb          lgbr      xgbr         y\n",
       "0  0.000221  0.000265  2.229333e-04  0.000232  0.000235\n",
       "1  0.000200 -0.000314 -1.486095e-04 -0.000325 -0.000147\n",
       "2  0.000009  0.000003  1.557063e-07 -0.000004  0.000002\n",
       "3  0.000041  0.000040  3.327696e-05  0.000030  0.000036\n",
       "4  0.000530  0.000519  5.088877e-04  0.000511  0.000517"
      ]
     },
     "execution_count": 14,
     "metadata": {},
     "output_type": "execute_result"
    }
   ],
   "source": [
    "# Model stacking\n",
    "# Test set\n",
    "p1 = models['xgboost'].predict(X_test.loc[:, enabled_vars])\n",
    "p2 = models['lgboost'].predict(X_test.loc[:, enabled_vars])\n",
    "p3 = models['lgboost_reg'].predict(X_test.loc[:, enabled_vars])\n",
    "p4 = models['xgboost_reg'].predict(X_test.loc[:, enabled_vars])\n",
    "\n",
    "preds_test = pd.DataFrame(np.c_[p1,p2,p3,p4], columns=['xgb','lgb', 'lgbr', 'xgbr'], index=X_test.index)\n",
    "\n",
    "preds_test['y'] = preds_test.mean(axis=1)\n",
    "\n",
    "preds_test.head()"
   ]
  },
  {
   "cell_type": "code",
   "execution_count": 15,
   "metadata": {
    "collapsed": true
   },
   "outputs": [],
   "source": [
    "preds_test.y.to_csv('../data/output_14_lgb350reg_lgb700_xgb700_xgb700reg_with_log_diff_as_feats_with_param_tuning_entity_embeddings_all_data_2.csv', index=True, header=True)"
   ]
  }
 ],
 "metadata": {
  "kernelspec": {
   "display_name": "py36",
   "language": "python",
   "name": "py36"
  },
  "language_info": {
   "codemirror_mode": {
    "name": "ipython",
    "version": 3
   },
   "file_extension": ".py",
   "mimetype": "text/x-python",
   "name": "python",
   "nbconvert_exporter": "python",
   "pygments_lexer": "ipython3",
   "version": "3.6.4"
  }
 },
 "nbformat": 4,
 "nbformat_minor": 2
}
